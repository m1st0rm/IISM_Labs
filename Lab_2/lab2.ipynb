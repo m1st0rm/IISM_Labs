{
 "cells": [
  {
   "cell_type": "code",
   "metadata": {
    "ExecuteTime": {
     "end_time": "2024-11-01T09:34:31.238552Z",
     "start_time": "2024-11-01T09:34:30.421298Z"
    }
   },
   "source": [
    "import numpy as np\n",
    "import time\n",
    "import hf\n",
    "import Lab_2.statistics as statistics\n",
    "\n",
    "\n",
    "### Parameters\n",
    "\n",
    "\n",
    "COUNT = 100000\n",
    "\n",
    "DENSITY = 1000\n",
    "\n",
    "VALS_PART = 0.0005\n",
    "WIDTH_PART = 0.2\n",
    "CUT_COEFF = 1\n",
    "\n",
    "STEP = 1\n",
    "\n",
    "WINDOW = 1\n",
    "\n",
    "MIN_VALUE = -hf.RAND_MAX\n",
    "MAX_VALUE = hf.RAND_MAX\n",
    "\n",
    "ALPHA = 0.05"
   ],
   "outputs": [],
   "execution_count": 1
  },
  {
   "cell_type": "code",
   "metadata": {
    "ExecuteTime": {
     "end_time": "2024-11-01T09:34:45.369326Z",
     "start_time": "2024-11-01T09:34:45.244480Z"
    }
   },
   "source": [
    "### Preparations\n",
    "\n",
    "\n",
    "hf.set_seed(time.time_ns() % hf.RAND_MAX)\n",
    "\n",
    "\n",
    "def clear(distribution):\n",
    "    return statistics.clear(distribution, VALS_PART, WIDTH_PART, CUT_COEFF)\n",
    "    #return distribution\n",
    "\n",
    "\n",
    "def sort(values):\n",
    "    return np.sort(values)\n",
    "\n",
    "\n",
    "def generate_vals(n):\n",
    "    return [ hf.random() / hf.RAND_MAX for _ in range(n) ]\n",
    "\n",
    "\n",
    "sorted_random_vals = sort(generate_vals(COUNT))"
   ],
   "outputs": [],
   "execution_count": 2
  },
  {
   "cell_type": "markdown",
   "metadata": {},
   "source": [
    "## Задание 1. Имитация непрерывных случайных величин"
   ]
  },
  {
   "cell_type": "code",
   "metadata": {
    "ExecuteTime": {
     "end_time": "2024-11-01T09:35:37.115966Z",
     "start_time": "2024-11-01T09:34:49.234940Z"
    }
   },
   "source": [
    "### Continuous distribution\n",
    "\n",
    "\n",
    "distribution_type = statistics.ContinuousDistribution[hf.selector(\"Select distribution type\", list(statistics.ContinuousDistribution.__members__.keys()))]\n",
    "\n",
    "match distribution_type:\n",
    "    case statistics.ContinuousDistribution.NORMAL:\n",
    "        mean = hf.float_input(\"Mean\", MIN_VALUE, MAX_VALUE, 1)[0]\n",
    "        std = hf.float_input(\"Standart deviation\", 0, MAX_VALUE, 1, False)[0]\n",
    "    case statistics.ContinuousDistribution.EXPONENTIAL:\n",
    "        mean = hf.float_input(\"Mean\", 0, MAX_VALUE, 1, False)[0]\n",
    "        std = None\n",
    "\n",
    "\n",
    "inverse_distribution_function = statistics.INVERSE_CONTINUOUS_DISTRIBUTION_GENERATORS[distribution_type](mean, std)\n",
    "\n",
    "distribution = statistics.approximate(clear(statistics.generate_continuous_distribution(inverse_distribution_function, sorted_random_vals)), WINDOW)\n",
    "\n",
    "statistic_mean = statistics.get_expected_value(distribution)\n",
    "statistic_std = statistics.get_variance(distribution, statistic_mean) ** 0.5\n",
    "\n",
    "match distribution_type:\n",
    "    case statistics.ContinuousDistribution.NORMAL:\n",
    "        distribution_function = statistics.DISTRIBUTION_GENERATORS[distribution_type](statistic_mean, statistic_std)\n",
    "    case statistics.ContinuousDistribution.EXPONENTIAL:\n",
    "        distribution_function = statistics.DISTRIBUTION_GENERATORS[distribution_type](statistic_mean, None)\n",
    "       \n",
    "is_suited = statistics.check_distribution(distribution_function, distribution, ALPHA)\n",
    "\n",
    "print(\"Calculated mean: \", statistic_mean)\n",
    "print(\"Calculated std: \", statistic_std)\n",
    "print(\"Is suited: \", is_suited)\n",
    "\n",
    "statistics.draw_hist(distribution, STEP)"
   ],
   "outputs": [
    {
     "data": {
      "text/plain": [
       "Label(value='Select distribution type')"
      ],
      "application/vnd.jupyter.widget-view+json": {
       "version_major": 2,
       "version_minor": 0,
       "model_id": "6845442ac3b14c7e809add6167d91d11"
      }
     },
     "metadata": {},
     "output_type": "display_data"
    },
    {
     "data": {
      "text/plain": [
       "Dropdown(options=('NORMAL', 'EXPONENTIAL'), value='NORMAL')"
      ],
      "application/vnd.jupyter.widget-view+json": {
       "version_major": 2,
       "version_minor": 0,
       "model_id": "6aa0e08ca12b4946be6472200ea008fc"
      }
     },
     "metadata": {},
     "output_type": "display_data"
    },
    {
     "data": {
      "text/plain": [
       "Button(description='Ok', style=ButtonStyle())"
      ],
      "application/vnd.jupyter.widget-view+json": {
       "version_major": 2,
       "version_minor": 0,
       "model_id": "5a382f44d8874e338ab9c31d0e61df9c"
      }
     },
     "metadata": {},
     "output_type": "display_data"
    },
    {
     "data": {
      "text/plain": [
       "Label(value='Mean')"
      ],
      "application/vnd.jupyter.widget-view+json": {
       "version_major": 2,
       "version_minor": 0,
       "model_id": "8fa3b17b29e641598863c71ff3104253"
      }
     },
     "metadata": {},
     "output_type": "display_data"
    },
    {
     "data": {
      "text/plain": [
       "FloatText(value=0.0)"
      ],
      "application/vnd.jupyter.widget-view+json": {
       "version_major": 2,
       "version_minor": 0,
       "model_id": "800b39c5554249d1b1ea7e6a96b3152d"
      }
     },
     "metadata": {},
     "output_type": "display_data"
    },
    {
     "data": {
      "text/plain": [
       "Button(description='Ok', style=ButtonStyle())"
      ],
      "application/vnd.jupyter.widget-view+json": {
       "version_major": 2,
       "version_minor": 0,
       "model_id": "20a39676188d4b62aef2ca080b23a80f"
      }
     },
     "metadata": {},
     "output_type": "display_data"
    },
    {
     "data": {
      "text/plain": [
       "Label(value='Standart deviation')"
      ],
      "application/vnd.jupyter.widget-view+json": {
       "version_major": 2,
       "version_minor": 0,
       "model_id": "3793fbff274449fcba9eae4b523b6b2d"
      }
     },
     "metadata": {},
     "output_type": "display_data"
    },
    {
     "data": {
      "text/plain": [
       "FloatText(value=0.0)"
      ],
      "application/vnd.jupyter.widget-view+json": {
       "version_major": 2,
       "version_minor": 0,
       "model_id": "5b7c755283ab4feaa9b92f088f71aa91"
      }
     },
     "metadata": {},
     "output_type": "display_data"
    },
    {
     "data": {
      "text/plain": [
       "Button(description='Ok', style=ButtonStyle())"
      ],
      "application/vnd.jupyter.widget-view+json": {
       "version_major": 2,
       "version_minor": 0,
       "model_id": "76c8eba5221141c6a2f81dfdc18d4bac"
      }
     },
     "metadata": {},
     "output_type": "display_data"
    },
    {
     "name": "stdout",
     "output_type": "stream",
     "text": [
      "Calculated mean:  90.16852995800413\n",
      "Calculated std:  59.89790591483627\n",
      "Is suited:  True\n"
     ]
    },
    {
     "data": {
      "text/plain": [
       "<Figure size 640x480 with 1 Axes>"
      ],
      "image/png": "[encoded data removed]"
     },
     "metadata": {},
     "output_type": "display_data"
    }
   ],
   "execution_count": 3
  },
  {
   "cell_type": "code",
   "metadata": {
    "ExecuteTime": {
     "end_time": "2024-11-01T09:37:35.668136Z",
     "start_time": "2024-11-01T09:37:34.984682Z"
    }
   },
   "source": [
    "\n",
    "statistics.draw_distribution_plot(distribution, DENSITY, distribution[0], distribution[-1])\n",
    "statistics.draw_plot(distribution_function, DENSITY, distribution[0], distribution[-1])"
   ],
   "outputs": [
    {
     "data": {
      "text/plain": [
       "<Figure size 640x480 with 1 Axes>"
      ],
      "image/png": "[encoded data removed]"
     },
     "metadata": {},
     "output_type": "display_data"
    }
   ],
   "execution_count": 4
  },
  {
   "cell_type": "markdown",
   "metadata": {},
   "source": [
    "## Задание 2. Имитация дискретных случайных величин"
   ]
  },
  {
   "cell_type": "code",
   "metadata": {
    "ExecuteTime": {
     "end_time": "2024-11-01T09:42:17.150306Z",
     "start_time": "2024-11-01T09:41:43.095033Z"
    }
   },
   "source": [
    "### Discrete distribution\n",
    "\n",
    "\n",
    "distribution_type = statistics.DiscreteDistribution[hf.selector(\"Select distribution type\", list(statistics.DiscreteDistribution.__members__.keys()))]\n",
    "\n",
    "match distribution_type:\n",
    "    case statistics.DiscreteDistribution.POISSON:\n",
    "        mean = hf.float_input(\"Mean\", 0, MAX_VALUE, 1, False)[0]\n",
    "        std = None\n",
    "    case statistics.DiscreteDistribution.GEOMETRIC:\n",
    "        mean = hf.float_input(\"Mean\", 1, MAX_VALUE, 1)[0]\n",
    "        std = None\n",
    "\n",
    "distribution_function = statistics.DISTRIBUTION_GENERATORS[distribution_type](mean, std)\n",
    "\n",
    "distribution = statistics.approximate(clear(statistics.generate_discrete_distribution(distribution_function, sorted_random_vals)), WINDOW)\n",
    "\n",
    "statistic_mean = statistics.get_expected_value(distribution)\n",
    "statistic_std = statistics.get_variance(distribution, statistic_mean) ** 0.5\n",
    "\n",
    "match distribution_type:\n",
    "    case statistics.DiscreteDistribution.POISSON:\n",
    "        distribution_function = statistics.DISTRIBUTION_GENERATORS[distribution_type](statistic_mean, None)\n",
    "    case statistics.DiscreteDistribution.GEOMETRIC:\n",
    "        distribution_function = statistics.DISTRIBUTION_GENERATORS[distribution_type](statistic_mean, None)\n",
    "\n",
    "\n",
    "is_suited = statistics.check_distribution(distribution_function, distribution, ALPHA)\n",
    "\n",
    "print(\"Calculated mean: \", statistic_mean)\n",
    "print(\"Calculated std: \", statistic_std)\n",
    "print(\"Is suited: \", is_suited)\n",
    "\n",
    "statistics.draw_hist(distribution, STEP)"
   ],
   "outputs": [
    {
     "data": {
      "text/plain": [
       "Label(value='Select distribution type')"
      ],
      "application/vnd.jupyter.widget-view+json": {
       "version_major": 2,
       "version_minor": 0,
       "model_id": "02bfc0bc617c456aac8429ae4fe382c6"
      }
     },
     "metadata": {},
     "output_type": "display_data"
    },
    {
     "data": {
      "text/plain": [
       "Dropdown(options=('GEOMETRIC', 'POISSON'), value='GEOMETRIC')"
      ],
      "application/vnd.jupyter.widget-view+json": {
       "version_major": 2,
       "version_minor": 0,
       "model_id": "f36d59e73b4b4eb6bb264b39e31cb30c"
      }
     },
     "metadata": {},
     "output_type": "display_data"
    },
    {
     "data": {
      "text/plain": [
       "Button(description='Ok', style=ButtonStyle())"
      ],
      "application/vnd.jupyter.widget-view+json": {
       "version_major": 2,
       "version_minor": 0,
       "model_id": "9d3bbc4dd26749699ce32363cfbdc47d"
      }
     },
     "metadata": {},
     "output_type": "display_data"
    },
    {
     "data": {
      "text/plain": [
       "Label(value='Mean')"
      ],
      "application/vnd.jupyter.widget-view+json": {
       "version_major": 2,
       "version_minor": 0,
       "model_id": "40bec3ad039e404bbea5c6bdde95d01e"
      }
     },
     "metadata": {},
     "output_type": "display_data"
    },
    {
     "data": {
      "text/plain": [
       "FloatText(value=0.0)"
      ],
      "application/vnd.jupyter.widget-view+json": {
       "version_major": 2,
       "version_minor": 0,
       "model_id": "0bb1fbb4354347bda9227419ef60edb3"
      }
     },
     "metadata": {},
     "output_type": "display_data"
    },
    {
     "data": {
      "text/plain": [
       "Button(description='Ok', style=ButtonStyle())"
      ],
      "application/vnd.jupyter.widget-view+json": {
       "version_major": 2,
       "version_minor": 0,
       "model_id": "1ef7461b764e4de3a76bfe66cadb0b46"
      }
     },
     "metadata": {},
     "output_type": "display_data"
    },
    {
     "name": "stdout",
     "output_type": "stream",
     "text": [
      "Calculated mean:  10.00983\n",
      "Calculated std:  3.156775787270932\n",
      "Is suited:  True\n"
     ]
    },
    {
     "data": {
      "text/plain": [
       "<Figure size 640x480 with 1 Axes>"
      ],
      "image/png": "[encoded data removed]"
     },
     "metadata": {},
     "output_type": "display_data"
    }
   ],
   "execution_count": 5
  },
  {
   "cell_type": "code",
   "metadata": {
    "ExecuteTime": {
     "end_time": "2024-11-01T09:42:25.442027Z",
     "start_time": "2024-11-01T09:42:24.792356Z"
    }
   },
   "source": [
    "\n",
    "statistics.draw_distribution_plot(distribution, DENSITY, distribution[0], distribution[-1])\n",
    "statistics.draw_plot(distribution_function, DENSITY, distribution[0], distribution[-1])"
   ],
   "outputs": [
    {
     "data": {
      "text/plain": [
       "<Figure size 640x480 with 1 Axes>"
      ],
      "image/png": "[encoded data removed]"
     },
     "metadata": {},
     "output_type": "display_data"
    }
   ],
   "execution_count": 6
  },
  {
   "metadata": {
    "ExecuteTime": {
     "start_time": "2024-10-31T21:28:38.861132Z"
    }
   },
   "cell_type": "code",
   "source": "",
   "outputs": [],
   "execution_count": null
  }
 ],
 "metadata": {
  "kernelspec": {
   "display_name": ".venv",
   "language": "python",
   "name": "python3"
  },
  "language_info": {
   "codemirror_mode": {
    "name": "ipython",
    "version": 3
   },
   "file_extension": ".py",
   "mimetype": "text/x-python",
   "name": "python",
   "nbconvert_exporter": "python",
   "pygments_lexer": "ipython3",
   "version": "3.12.7"
  }
 },
 "nbformat": 4,
 "nbformat_minor": 2
}
