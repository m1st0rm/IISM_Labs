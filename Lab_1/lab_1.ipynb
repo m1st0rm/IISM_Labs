{
 "cells": [
  {
   "metadata": {},
   "cell_type": "markdown",
   "source": [
    "# Лабораторная работа №1 (Богомолов Михаил, гр.153502) « Случайные события и их имитация »\n",
    "### В этой лабораторной работе вам необходимо разработать генераторы,\n",
    "### которые имитируют происшествие различных случайных событий. В каждом\n",
    "### задании вам нужно будет сгенерировать N = 10^6 значений, вычислить частоту\n",
    "### выпадения каждого события и сравнить с теоретическими значениями.\n",
    "### Реализация генераторов вынесена в файл custom_random.py"
   ],
   "id": "b31f0cb2262f4189"
  },
  {
   "metadata": {
    "ExecuteTime": {
     "end_time": "2024-09-12T15:00:06.272868Z",
     "start_time": "2024-09-12T15:00:06.264856Z"
    }
   },
   "cell_type": "code",
   "source": [
    "from custom_random import simple_event_generator, complex_event_generator, complex_event_of_dependent_events_generator, full_group_event_generator\n",
    "import pandas as pd\n",
    "from evil_arthas_fortune_wheel import FortuneWheel\n",
    "from IPython.display import display, Markdown, clear_output\n",
    "pd.options.display.float_format = '{:.6f}'.format\n",
    "import ipywidgets as widgets"
   ],
   "id": "b09d56bdcaa3530e",
   "outputs": [],
   "execution_count": 7
  },
  {
   "metadata": {},
   "cell_type": "markdown",
   "source": [
    "# Задание 1. Имитация простого случайного события\n",
    "### На вход генератора подаёстся вероятность простого случайного события.\n",
    "### В результате работы генератор должен вернуть с заданной вероятностью True,\n",
    "### если событие произошло, и False, если событие не произошло."
   ],
   "id": "a4155aee6f06a0eb"
  },
  {
   "metadata": {
    "ExecuteTime": {
     "end_time": "2024-09-12T15:00:06.683361Z",
     "start_time": "2024-09-12T15:00:06.280904Z"
    }
   },
   "cell_type": "code",
   "source": [
    "prob_t1 = 0.197\n",
    "\n",
    "generator_t1 = simple_event_generator(prob_t1)\n",
    "\n",
    "N = 10**6\n",
    "true_count_t1 = 0\n",
    "\n",
    "for _ in range(N):\n",
    "    if next(generator_t1):\n",
    "        true_count_t1 += 1\n",
    "\n",
    "true_experimental_freq_t1 = true_count_t1 / N\n",
    "false_experimental_freq_t1 = 1 - true_experimental_freq_t1\n",
    "\n",
    "true_theoretical_freq_t1 = prob_t1\n",
    "false_theoretical_freq_t1 = 1 - true_theoretical_freq_t1\n",
    "\n",
    "data_t1 = {'Событие': ['Произошло (True)', 'Не произошло (False)'],\n",
    "    'Экспериментальная частота': [true_experimental_freq_t1, false_experimental_freq_t1],\n",
    "    'Теоретическая частота': [true_theoretical_freq_t1, false_theoretical_freq_t1]}\n",
    "\n",
    "df_t1 = pd.DataFrame(data_t1)\n",
    "df_t1"
   ],
   "id": "7307259b6109afcc",
   "outputs": [
    {
     "data": {
      "text/plain": [
       "                Событие  Экспериментальная частота  Теоретическая частота\n",
       "0      Произошло (True)                   0.196841               0.197000\n",
       "1  Не произошло (False)                   0.803159               0.803000"
      ],
      "text/html": [
       "<div>\n",
       "<style scoped>\n",
       "    .dataframe tbody tr th:only-of-type {\n",
       "        vertical-align: middle;\n",
       "    }\n",
       "\n",
       "    .dataframe tbody tr th {\n",
       "        vertical-align: top;\n",
       "    }\n",
       "\n",
       "    .dataframe thead th {\n",
       "        text-align: right;\n",
       "    }\n",
       "</style>\n",
       "<table border=\"1\" class=\"dataframe\">\n",
       "  <thead>\n",
       "    <tr style=\"text-align: right;\">\n",
       "      <th></th>\n",
       "      <th>Событие</th>\n",
       "      <th>Экспериментальная частота</th>\n",
       "      <th>Теоретическая частота</th>\n",
       "    </tr>\n",
       "  </thead>\n",
       "  <tbody>\n",
       "    <tr>\n",
       "      <th>0</th>\n",
       "      <td>Произошло (True)</td>\n",
       "      <td>0.196841</td>\n",
       "      <td>0.197000</td>\n",
       "    </tr>\n",
       "    <tr>\n",
       "      <th>1</th>\n",
       "      <td>Не произошло (False)</td>\n",
       "      <td>0.803159</td>\n",
       "      <td>0.803000</td>\n",
       "    </tr>\n",
       "  </tbody>\n",
       "</table>\n",
       "</div>"
      ]
     },
     "execution_count": 8,
     "metadata": {},
     "output_type": "execute_result"
    }
   ],
   "execution_count": 8
  },
  {
   "metadata": {},
   "cell_type": "markdown",
   "source": [
    "# Задание 2. Имитация сложного события\n",
    "### На вход генератора подается список, содержащий вероятности k\n",
    "### случайных независимых событий. В результате работы генератор должен\n",
    "### вернуть список значений True/False, i-ый элемент которого соответствует\n",
    "### выпадению/невыпадению i-го случайного события с заданной вероятностью.\n"
   ],
   "id": "5813276b1c4b8d7e"
  },
  {
   "metadata": {
    "ExecuteTime": {
     "end_time": "2024-09-12T15:00:08.945017Z",
     "start_time": "2024-09-12T15:00:06.684380Z"
    }
   },
   "cell_type": "code",
   "source": [
    "probs_t2 = [0.116, 0.983, 0.011, 0.530, 0.678]\n",
    "\n",
    "generator_t2 = complex_event_generator(probs_t2)\n",
    "\n",
    "true_counts_t2 = [0] * len(probs_t2)\n",
    "\n",
    "for _ in range(N):\n",
    "    events = next(generator_t2)\n",
    "    for index, event in enumerate(events):\n",
    "        if event:\n",
    "            true_counts_t2[index] += 1\n",
    "\n",
    "true_experimental_freq_t2 = [count/N for count in true_counts_t2]\n",
    "false_experimental_freq_t2 = [1 - freq for freq in true_experimental_freq_t2]\n",
    "\n",
    "\n",
    "true_theoretical_freq_t2 = probs_t2\n",
    "false_theoretical_freq_t2 = [1 - freq for freq in true_theoretical_freq_t2]\n",
    "\n",
    "events_t2 = [f'Событие {i+1}' for i in range(len(probs_t2))]\n",
    "\n",
    "data_true_t2 = {\n",
    "    'Событие': events_t2,\n",
    "    'Экспериментальная частота (True)': true_experimental_freq_t2,\n",
    "    'Теоретическая частота (True)': true_theoretical_freq_t2\n",
    "}\n",
    "df_true_t2 = pd.DataFrame(data_true_t2)\n",
    "\n",
    "data_false_t2 = {\n",
    "    'Событие': events_t2,\n",
    "    'Экспериментальная частота (False)': false_experimental_freq_t2,\n",
    "    'Теоретическая частота (False)': false_theoretical_freq_t2\n",
    "}\n",
    "df_false_t2 = pd.DataFrame(data_false_t2)\n",
    "\n",
    "df_combined_t2 = pd.concat([df_true_t2, df_false_t2], axis=1)\n",
    "\n",
    "df_combined_t2"
   ],
   "id": "abf3b0407a8d0ad1",
   "outputs": [
    {
     "data": {
      "text/plain": [
       "     Событие  Экспериментальная частота (True)  Теоретическая частота (True)  \\\n",
       "0  Событие 1                          0.115689                      0.116000   \n",
       "1  Событие 2                          0.982894                      0.983000   \n",
       "2  Событие 3                          0.011079                      0.011000   \n",
       "3  Событие 4                          0.529848                      0.530000   \n",
       "4  Событие 5                          0.678731                      0.678000   \n",
       "\n",
       "     Событие  Экспериментальная частота (False)  Теоретическая частота (False)  \n",
       "0  Событие 1                           0.884311                       0.884000  \n",
       "1  Событие 2                           0.017106                       0.017000  \n",
       "2  Событие 3                           0.988921                       0.989000  \n",
       "3  Событие 4                           0.470152                       0.470000  \n",
       "4  Событие 5                           0.321269                       0.322000  "
      ],
      "text/html": [
       "<div>\n",
       "<style scoped>\n",
       "    .dataframe tbody tr th:only-of-type {\n",
       "        vertical-align: middle;\n",
       "    }\n",
       "\n",
       "    .dataframe tbody tr th {\n",
       "        vertical-align: top;\n",
       "    }\n",
       "\n",
       "    .dataframe thead th {\n",
       "        text-align: right;\n",
       "    }\n",
       "</style>\n",
       "<table border=\"1\" class=\"dataframe\">\n",
       "  <thead>\n",
       "    <tr style=\"text-align: right;\">\n",
       "      <th></th>\n",
       "      <th>Событие</th>\n",
       "      <th>Экспериментальная частота (True)</th>\n",
       "      <th>Теоретическая частота (True)</th>\n",
       "      <th>Событие</th>\n",
       "      <th>Экспериментальная частота (False)</th>\n",
       "      <th>Теоретическая частота (False)</th>\n",
       "    </tr>\n",
       "  </thead>\n",
       "  <tbody>\n",
       "    <tr>\n",
       "      <th>0</th>\n",
       "      <td>Событие 1</td>\n",
       "      <td>0.115689</td>\n",
       "      <td>0.116000</td>\n",
       "      <td>Событие 1</td>\n",
       "      <td>0.884311</td>\n",
       "      <td>0.884000</td>\n",
       "    </tr>\n",
       "    <tr>\n",
       "      <th>1</th>\n",
       "      <td>Событие 2</td>\n",
       "      <td>0.982894</td>\n",
       "      <td>0.983000</td>\n",
       "      <td>Событие 2</td>\n",
       "      <td>0.017106</td>\n",
       "      <td>0.017000</td>\n",
       "    </tr>\n",
       "    <tr>\n",
       "      <th>2</th>\n",
       "      <td>Событие 3</td>\n",
       "      <td>0.011079</td>\n",
       "      <td>0.011000</td>\n",
       "      <td>Событие 3</td>\n",
       "      <td>0.988921</td>\n",
       "      <td>0.989000</td>\n",
       "    </tr>\n",
       "    <tr>\n",
       "      <th>3</th>\n",
       "      <td>Событие 4</td>\n",
       "      <td>0.529848</td>\n",
       "      <td>0.530000</td>\n",
       "      <td>Событие 4</td>\n",
       "      <td>0.470152</td>\n",
       "      <td>0.470000</td>\n",
       "    </tr>\n",
       "    <tr>\n",
       "      <th>4</th>\n",
       "      <td>Событие 5</td>\n",
       "      <td>0.678731</td>\n",
       "      <td>0.678000</td>\n",
       "      <td>Событие 5</td>\n",
       "      <td>0.321269</td>\n",
       "      <td>0.322000</td>\n",
       "    </tr>\n",
       "  </tbody>\n",
       "</table>\n",
       "</div>"
      ]
     },
     "execution_count": 9,
     "metadata": {},
     "output_type": "execute_result"
    }
   ],
   "execution_count": 9
  },
  {
   "metadata": {},
   "cell_type": "markdown",
   "source": [
    "# Задание 3. Имитация сложного события, состоящего из зависимых событий\n",
    "### На вход генератора подается вероятность Р(А) и условная вероятность\n",
    "### Р(В|А). В результате работы генератор должен вернуть индикатор (число 0, 1, 2 или 3) \n",
    "### одного из четырех событий АB, Аnot(В), not(А)В, not(А)not(В) с соответствующими\n",
    "### вероятностями Р(АВ), Р(Аnot(В)), Р(not(А)В), Р(not(А)not(В)). \n",
    "### Для теоретических расчетов указанных вероятностей воспользуйтесь формулой полной вероятности и\n",
    "### теоремой Байеса. При выполнении используйте Р(not(А)) = 1 - Р(А) и Р(В|not(А)) = 1- Р(В|А)."
   ],
   "id": "d5650e4ee2efb12"
  },
  {
   "metadata": {
    "ExecuteTime": {
     "end_time": "2024-09-12T15:00:09.631955Z",
     "start_time": "2024-09-12T15:00:08.946029Z"
    }
   },
   "cell_type": "code",
   "source": [
    "p_a_t3 = 0.391\n",
    "p_b_given_a_t3 = 0.599\n",
    "\n",
    "generator_t3 = complex_event_of_dependent_events_generator(p_a_t3, p_b_given_a_t3)\n",
    "true_counts_t3 = [0, 0, 0, 0]\n",
    "\n",
    "true_theoretical_freq_t3 = [0, 0, 0, 0]\n",
    "true_theoretical_freq_indexes_t3 = [-1, -1 , -1, -1]\n",
    "\n",
    "for _ in range(N):\n",
    "    outcome = next(generator_t3)\n",
    "    true_counts_t3[outcome[0]] += 1\n",
    "    if outcome[0] not in true_theoretical_freq_indexes_t3:\n",
    "        true_theoretical_freq_indexes_t3[outcome[0]] = outcome[0]\n",
    "        true_theoretical_freq_t3[outcome[0]] = outcome[1]\n",
    "    \n",
    "true_experimental_freq_t3 = [count/N for count in true_counts_t3]\n",
    "false_experimental_freq_t3 = [1 - freq for freq in true_experimental_freq_t3]\n",
    "\n",
    "false_theoretical_freq_t3 = [1 - freq for freq in true_theoretical_freq_t3]\n",
    "\n",
    "events_t3 = [\"АB\", \"Аnot(В)\", \"not(А)В\", \"not(А)not(В)\"]\n",
    "\n",
    "\n",
    "data_true_t3 = {\n",
    "    'Событие': events_t3,\n",
    "    'Экспериментальная частота (True)': true_experimental_freq_t3,\n",
    "    'Теоретическая частота (True)': true_theoretical_freq_t3\n",
    "}\n",
    "\n",
    "df_true_t3 = pd.DataFrame(data_true_t3)\n",
    "\n",
    "data_false_t3 = {\n",
    "    'Событие': events_t3,\n",
    "    'Экспериментальная частота (False)': false_experimental_freq_t3,\n",
    "    'Теоретическая частота (False)': false_theoretical_freq_t3\n",
    "}\n",
    "\n",
    "df_false_t3 = pd.DataFrame(data_false_t3)\n",
    "\n",
    "df_combined_t3 = pd.concat([df_true_t3, df_false_t3], axis=1)\n",
    "df_combined_t3"
   ],
   "id": "33fd2986d891429e",
   "outputs": [
    {
     "data": {
      "text/plain": [
       "        Событие  Экспериментальная частота (True)  \\\n",
       "0            АB                          0.234344   \n",
       "1       Аnot(В)                          0.156283   \n",
       "2       not(А)В                          0.244678   \n",
       "3  not(А)not(В)                          0.364695   \n",
       "\n",
       "   Теоретическая частота (True)       Событие  \\\n",
       "0                      0.234209            АB   \n",
       "1                      0.156791       Аnot(В)   \n",
       "2                      0.244209       not(А)В   \n",
       "3                      0.364791  not(А)not(В)   \n",
       "\n",
       "   Экспериментальная частота (False)  Теоретическая частота (False)  \n",
       "0                           0.765656                       0.765791  \n",
       "1                           0.843717                       0.843209  \n",
       "2                           0.755322                       0.755791  \n",
       "3                           0.635305                       0.635209  "
      ],
      "text/html": [
       "<div>\n",
       "<style scoped>\n",
       "    .dataframe tbody tr th:only-of-type {\n",
       "        vertical-align: middle;\n",
       "    }\n",
       "\n",
       "    .dataframe tbody tr th {\n",
       "        vertical-align: top;\n",
       "    }\n",
       "\n",
       "    .dataframe thead th {\n",
       "        text-align: right;\n",
       "    }\n",
       "</style>\n",
       "<table border=\"1\" class=\"dataframe\">\n",
       "  <thead>\n",
       "    <tr style=\"text-align: right;\">\n",
       "      <th></th>\n",
       "      <th>Событие</th>\n",
       "      <th>Экспериментальная частота (True)</th>\n",
       "      <th>Теоретическая частота (True)</th>\n",
       "      <th>Событие</th>\n",
       "      <th>Экспериментальная частота (False)</th>\n",
       "      <th>Теоретическая частота (False)</th>\n",
       "    </tr>\n",
       "  </thead>\n",
       "  <tbody>\n",
       "    <tr>\n",
       "      <th>0</th>\n",
       "      <td>АB</td>\n",
       "      <td>0.234344</td>\n",
       "      <td>0.234209</td>\n",
       "      <td>АB</td>\n",
       "      <td>0.765656</td>\n",
       "      <td>0.765791</td>\n",
       "    </tr>\n",
       "    <tr>\n",
       "      <th>1</th>\n",
       "      <td>Аnot(В)</td>\n",
       "      <td>0.156283</td>\n",
       "      <td>0.156791</td>\n",
       "      <td>Аnot(В)</td>\n",
       "      <td>0.843717</td>\n",
       "      <td>0.843209</td>\n",
       "    </tr>\n",
       "    <tr>\n",
       "      <th>2</th>\n",
       "      <td>not(А)В</td>\n",
       "      <td>0.244678</td>\n",
       "      <td>0.244209</td>\n",
       "      <td>not(А)В</td>\n",
       "      <td>0.755322</td>\n",
       "      <td>0.755791</td>\n",
       "    </tr>\n",
       "    <tr>\n",
       "      <th>3</th>\n",
       "      <td>not(А)not(В)</td>\n",
       "      <td>0.364695</td>\n",
       "      <td>0.364791</td>\n",
       "      <td>not(А)not(В)</td>\n",
       "      <td>0.635305</td>\n",
       "      <td>0.635209</td>\n",
       "    </tr>\n",
       "  </tbody>\n",
       "</table>\n",
       "</div>"
      ]
     },
     "execution_count": 10,
     "metadata": {},
     "output_type": "execute_result"
    }
   ],
   "execution_count": 10
  },
  {
   "metadata": {},
   "cell_type": "markdown",
   "source": [
    "# Задание 4. Имитация событий, образующих полную группу\n",
    "### На вход генератора подается список, содержащий вероятности\n",
    "### k случайных независимых событий, образующих полную группу. В результате\n",
    "### своей работы генератор должен с заданными вероятностями вернуть\n",
    "### индикатор (0, 1,...,k — 1) произошедшего на данном испытании события."
   ],
   "id": "c3743cf095953a6b"
  },
  {
   "metadata": {
    "ExecuteTime": {
     "end_time": "2024-09-12T15:00:10.352209Z",
     "start_time": "2024-09-12T15:00:09.632968Z"
    }
   },
   "cell_type": "code",
   "source": [
    "probs_t4 = [0.124, 0.035, 0.257, 0.506, 0.078]\n",
    "\n",
    "generator_t4 = full_group_event_generator(probs_t4)\n",
    "\n",
    "true_counts_t4 = [0] * len(probs_t4)\n",
    "\n",
    "for _ in range(N):\n",
    "    outcome = next(generator_t4)\n",
    "    true_counts_t4[outcome] += 1\n",
    "    \n",
    "true_experimental_freq_t4 = [count/N for count in true_counts_t4]\n",
    "false_experimental_freq_t4 = [1 - freq for freq in true_experimental_freq_t4]\n",
    "\n",
    "true_theoretical_freq_t4 = probs_t4\n",
    "false_theoretical_freq_t4 = [1 - freq for freq in true_theoretical_freq_t4]\n",
    "\n",
    "events_t4 = [f'Событие {i+1}' for i in range(len(probs_t4))]\n",
    "\n",
    "data_true_t4 = {\n",
    "    'Событие': events_t4,\n",
    "    'Экспериментальная частота (True)': true_experimental_freq_t4,\n",
    "    'Теоретическая частота (True)': true_theoretical_freq_t4\n",
    "}\n",
    "df_true_t4 = pd.DataFrame(data_true_t4)\n",
    "\n",
    "data_false_t4 = {\n",
    "    'Событие': events_t4,\n",
    "    'Экспериментальная частота (False)': false_experimental_freq_t4,\n",
    "    'Теоретическая частота (False)': false_theoretical_freq_t4\n",
    "}\n",
    "df_false_t4 = pd.DataFrame(data_false_t4)\n",
    "\n",
    "df_combined_t4 = pd.concat([df_true_t4, df_false_t4], axis=1)\n",
    "\n",
    "df_combined_t4"
   ],
   "id": "136f1dfbc902d8a0",
   "outputs": [
    {
     "data": {
      "text/plain": [
       "     Событие  Экспериментальная частота (True)  Теоретическая частота (True)  \\\n",
       "0  Событие 1                          0.123879                      0.124000   \n",
       "1  Событие 2                          0.034703                      0.035000   \n",
       "2  Событие 3                          0.256981                      0.257000   \n",
       "3  Событие 4                          0.506381                      0.506000   \n",
       "4  Событие 5                          0.078056                      0.078000   \n",
       "\n",
       "     Событие  Экспериментальная частота (False)  Теоретическая частота (False)  \n",
       "0  Событие 1                           0.876121                       0.876000  \n",
       "1  Событие 2                           0.965297                       0.965000  \n",
       "2  Событие 3                           0.743019                       0.743000  \n",
       "3  Событие 4                           0.493619                       0.494000  \n",
       "4  Событие 5                           0.921944                       0.922000  "
      ],
      "text/html": [
       "<div>\n",
       "<style scoped>\n",
       "    .dataframe tbody tr th:only-of-type {\n",
       "        vertical-align: middle;\n",
       "    }\n",
       "\n",
       "    .dataframe tbody tr th {\n",
       "        vertical-align: top;\n",
       "    }\n",
       "\n",
       "    .dataframe thead th {\n",
       "        text-align: right;\n",
       "    }\n",
       "</style>\n",
       "<table border=\"1\" class=\"dataframe\">\n",
       "  <thead>\n",
       "    <tr style=\"text-align: right;\">\n",
       "      <th></th>\n",
       "      <th>Событие</th>\n",
       "      <th>Экспериментальная частота (True)</th>\n",
       "      <th>Теоретическая частота (True)</th>\n",
       "      <th>Событие</th>\n",
       "      <th>Экспериментальная частота (False)</th>\n",
       "      <th>Теоретическая частота (False)</th>\n",
       "    </tr>\n",
       "  </thead>\n",
       "  <tbody>\n",
       "    <tr>\n",
       "      <th>0</th>\n",
       "      <td>Событие 1</td>\n",
       "      <td>0.123879</td>\n",
       "      <td>0.124000</td>\n",
       "      <td>Событие 1</td>\n",
       "      <td>0.876121</td>\n",
       "      <td>0.876000</td>\n",
       "    </tr>\n",
       "    <tr>\n",
       "      <th>1</th>\n",
       "      <td>Событие 2</td>\n",
       "      <td>0.034703</td>\n",
       "      <td>0.035000</td>\n",
       "      <td>Событие 2</td>\n",
       "      <td>0.965297</td>\n",
       "      <td>0.965000</td>\n",
       "    </tr>\n",
       "    <tr>\n",
       "      <th>2</th>\n",
       "      <td>Событие 3</td>\n",
       "      <td>0.256981</td>\n",
       "      <td>0.257000</td>\n",
       "      <td>Событие 3</td>\n",
       "      <td>0.743019</td>\n",
       "      <td>0.743000</td>\n",
       "    </tr>\n",
       "    <tr>\n",
       "      <th>3</th>\n",
       "      <td>Событие 4</td>\n",
       "      <td>0.506381</td>\n",
       "      <td>0.506000</td>\n",
       "      <td>Событие 4</td>\n",
       "      <td>0.493619</td>\n",
       "      <td>0.494000</td>\n",
       "    </tr>\n",
       "    <tr>\n",
       "      <th>4</th>\n",
       "      <td>Событие 5</td>\n",
       "      <td>0.078056</td>\n",
       "      <td>0.078000</td>\n",
       "      <td>Событие 5</td>\n",
       "      <td>0.921944</td>\n",
       "      <td>0.922000</td>\n",
       "    </tr>\n",
       "  </tbody>\n",
       "</table>\n",
       "</div>"
      ]
     },
     "execution_count": 11,
     "metadata": {},
     "output_type": "execute_result"
    }
   ],
   "execution_count": 11
  },
  {
   "metadata": {},
   "cell_type": "markdown",
   "source": [
    "# Задание 5. «Колесо фортуны» для стримера\n",
    "### Один видавший виды стример недавно столкнулся с проблемой: в коронавирусный век стало гораздо меньше выпускаться игровых новинок. В связи с этим он решил узнать у своей аудитории, на какую игру они бы желали посмотреть на грядущем стриме. Для этого стример вежливо попросил зрителей присылать пожертвования с указанием игры, которую бы они хотели видеть. Первоначально стример думал выбрать победителем игру с самой большой суммой пожертвованных денег. Однако, после долгих раздумий, он решил, что надо дать шанс всем упомянутым играм, и решил попросить Вас разработать для него что-то на подобии «колеса фортуны». Ниже представлены его требования к функциональности «колеса»:\n",
    "* изначально список игр пуст, он полностью управляется посредством зрительских пожертвований;\n",
    "* пожертвование описывается игрой и суммой, например, ('Witcher 3', 250);\n",
    "* если указанная в пожертвовании игра не была ранее упомянута, она должна быть добавлена в общий список с первоначальной суммой равной указанной в пожертвовании;\n",
    "* если указанная в пожертвовании игра уже содержится в списке игр, то к текущей сумме добавляется сумма, указанная в пожертвовании;\n",
    "* вероятность выпадения игры должна соответствовать доле пожертвованных за эту игру денег к общей сумме пожертвованных денег.\n",
    "### Реализация колеса вынесена в файл evil_arthas_fortune_wheel.py"
   ],
   "id": "9580f8a7b5c06c1b"
  },
  {
   "metadata": {
    "ExecuteTime": {
     "end_time": "2024-09-12T15:00:10.407208Z",
     "start_time": "2024-09-12T15:00:10.353209Z"
    }
   },
   "cell_type": "code",
   "source": [
    "wheel = FortuneWheel()\n",
    "\n",
    "game_name = widgets.Text(\n",
    "    description='Game Name:',\n",
    "    placeholder='Enter game name'\n",
    ")\n",
    "donation_amount = widgets.FloatText(\n",
    "    description='Donation Amount:',\n",
    "    placeholder=0.0\n",
    ")\n",
    "add_button = widgets.Button(description=\"Add Donation\")\n",
    "\n",
    "def add_donation(button):\n",
    "    wheel.donate((game_name.value, donation_amount.value))\n",
    "    game_name.value = ''\n",
    "    donation_amount.value = 0.0\n",
    "    with output:\n",
    "        clear_output(wait=True)\n",
    "        display(df_results())\n",
    "\n",
    "def df_results():\n",
    "    games_with_sums = wheel.games\n",
    "    games_with_probs = wheel.get_games_with_probabilities()\n",
    "    \n",
    "    game_names = [name for name in games_with_probs.keys()]\n",
    "    game_sums = [sums for sums in games_with_sums.values()]\n",
    "    game_probs = [prob for prob in games_with_probs.values()]\n",
    "    generator_t5 = full_group_event_generator(game_probs)\n",
    "    winner = next(generator_t5)\n",
    "    winner_list = [False] * len(game_names)\n",
    "    winner_list[winner] = True\n",
    "    data = {\n",
    "        'Game': game_names,\n",
    "        'Donation Sum': game_sums,\n",
    "        'Probability': game_probs,\n",
    "        'Winner?' : winner_list\n",
    "    }\n",
    "\n",
    "    \n",
    "    \n",
    "    df = pd.DataFrame(data)\n",
    "    return df\n",
    "\n",
    "output = widgets.Output()\n",
    "display(game_name, donation_amount, add_button, output)\n",
    "\n",
    "add_button.on_click(add_donation)\n",
    "\n",
    "with output:\n",
    "    display(df_results())"
   ],
   "id": "f7456860467881b9",
   "outputs": [
    {
     "data": {
      "text/plain": [
       "Text(value='', description='Game Name:', placeholder='Enter game name')"
      ],
      "application/vnd.jupyter.widget-view+json": {
       "version_major": 2,
       "version_minor": 0,
       "model_id": "cbedae9add32457c811153048bf6ae1b"
      }
     },
     "metadata": {},
     "output_type": "display_data"
    },
    {
     "data": {
      "text/plain": [
       "FloatText(value=0.0, description='Donation Amount:')"
      ],
      "application/vnd.jupyter.widget-view+json": {
       "version_major": 2,
       "version_minor": 0,
       "model_id": "7066d9e6da6b4438ad0c18dae50837e4"
      }
     },
     "metadata": {},
     "output_type": "display_data"
    },
    {
     "data": {
      "text/plain": [
       "Button(description='Add Donation', style=ButtonStyle())"
      ],
      "application/vnd.jupyter.widget-view+json": {
       "version_major": 2,
       "version_minor": 0,
       "model_id": "cb53ee1c3b9e498ba40ecaa1465da44b"
      }
     },
     "metadata": {},
     "output_type": "display_data"
    },
    {
     "data": {
      "text/plain": [
       "Output()"
      ],
      "application/vnd.jupyter.widget-view+json": {
       "version_major": 2,
       "version_minor": 0,
       "model_id": "eb7185f482a44cebbf1def7ad067fcb6"
      }
     },
     "metadata": {},
     "output_type": "display_data"
    }
   ],
   "execution_count": 12
  },
  {
   "metadata": {},
   "cell_type": "markdown",
   "source": "",
   "id": "3a4fd66445c612a4"
  }
 ],
 "metadata": {
  "kernelspec": {
   "display_name": "Python 3",
   "language": "python",
   "name": "python3"
  },
  "language_info": {
   "codemirror_mode": {
    "name": "ipython",
    "version": 2
   },
   "file_extension": ".py",
   "mimetype": "text/x-python",
   "name": "python",
   "nbconvert_exporter": "python",
   "pygments_lexer": "ipython2",
   "version": "2.7.6"
  }
 },
 "nbformat": 4,
 "nbformat_minor": 5
}
