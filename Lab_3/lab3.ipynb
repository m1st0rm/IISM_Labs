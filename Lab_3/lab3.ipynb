{
 "cells": [
  {
   "cell_type": "code",
   "execution_count": 34,
   "metadata": {},
   "outputs": [],
   "source": [
    "import numpy as np\n",
    "import sympy as syp\n",
    "import scipy as sp\n",
    "import helper_functions as hf\n",
    "import ipywidgets as widgets\n",
    "from jupyter_ui_poll import ui_events\n",
    "import time\n",
    "from functools import reduce\n",
    "import matplotlib.pyplot as plt\n",
    "\n",
    "\n",
    "NUMBER_OF_RANDOM_VALUES = 1000 # Количество случайных значений для генерации случайной величины\n",
    "DENSITY = 1000 # Плотность сетки графиков\n",
    "\n",
    "x, y, f = syp.symbols('x y f')"
   ]
  },
  {
   "cell_type": "markdown",
   "metadata": {},
   "source": [
    "### Непрерывная случайная величина"
   ]
  },
  {
   "cell_type": "code",
   "execution_count": 35,
   "metadata": {},
   "outputs": [
    {
     "name": "stdout",
     "output_type": "stream",
     "text": [
      "Заданная плотность распределения:\n"
     ]
    },
    {
     "data": {
      "text/latex": [
       "$\\displaystyle 2 x^{2} + \\frac{2 y}{3}$"
      ],
      "text/plain": [
       "2*x**2 + 2*y/3"
      ]
     },
     "metadata": {},
     "output_type": "display_data"
    },
    {
     "name": "stdout",
     "output_type": "stream",
     "text": [
      "Плотность распределения величины X:\n"
     ]
    },
    {
     "data": {
      "text/latex": [
       "$\\displaystyle 2 x^{2} + \\frac{1}{3}$"
      ],
      "text/plain": [
       "2*x**2 + 1/3"
      ]
     },
     "metadata": {},
     "output_type": "display_data"
    },
    {
     "name": "stdout",
     "output_type": "stream",
     "text": [
      "Плотность распределения величины Y:\n"
     ]
    },
    {
     "data": {
      "text/latex": [
       "$\\displaystyle \\frac{2 y}{3} + \\frac{2}{3}$"
      ],
      "text/plain": [
       "2*y/3 + 2/3"
      ]
     },
     "metadata": {},
     "output_type": "display_data"
    },
    {
     "name": "stdout",
     "output_type": "stream",
     "text": [
      "Условная плотность распределения величины X при условии Y:\n"
     ]
    },
    {
     "data": {
      "text/latex": [
       "$\\displaystyle \\frac{2 x^{2} + \\frac{2 y}{3}}{\\frac{2 y}{3} + \\frac{2}{3}}$"
      ],
      "text/plain": [
       "(2*x**2 + 2*y/3)/(2*y/3 + 2/3)"
      ]
     },
     "metadata": {},
     "output_type": "display_data"
    },
    {
     "name": "stdout",
     "output_type": "stream",
     "text": [
      "Условная плотность распределения величины Y при условии X:\n"
     ]
    },
    {
     "data": {
      "text/latex": [
       "$\\displaystyle \\frac{2 x^{2} + \\frac{2 y}{3}}{2 x^{2} + \\frac{1}{3}}$"
      ],
      "text/plain": [
       "(2*x**2 + 2*y/3)/(2*x**2 + 1/3)"
      ]
     },
     "metadata": {},
     "output_type": "display_data"
    }
   ],
   "source": [
    "density_function = 2 * (x * x + y / 3) # Заданная плотность распределения\n",
    "\n",
    "density_function_x = syp.integrate(density_function, (y, 0, 1)) # Плотность распределения величины X\n",
    "density_function_y = syp.integrate(density_function, (x, 0, 1)) # Плотность распределения величины Y\n",
    "\n",
    "conditional_density_function_x = density_function / density_function_y # Условная плотность распределения величины X при условии Y\n",
    "conditional_density_function_y  = density_function / density_function_x # Условная плотность распределения величины Y при условии X\n",
    "\n",
    "print(\"Заданная плотность распределения:\")\n",
    "display(density_function)\n",
    "\n",
    "print(\"Плотность распределения величины X:\")\n",
    "display(density_function_x)\n",
    "\n",
    "print(\"Плотность распределения величины Y:\")\n",
    "display(density_function_y)\n",
    "\n",
    "print(\"Условная плотность распределения величины X при условии Y:\")\n",
    "display(conditional_density_function_x)\n",
    "\n",
    "print(\"Условная плотность распределения величины Y при условии X:\")\n",
    "display(conditional_density_function_y)"
   ]
  },
  {
   "cell_type": "code",
   "execution_count": 36,
   "metadata": {},
   "outputs": [],
   "source": [
    "rng = np.random.default_rng() # Генератор псевдослучайных чисел"
   ]
  },
  {
   "cell_type": "code",
   "execution_count": 37,
   "metadata": {},
   "outputs": [
    {
     "name": "stdout",
     "output_type": "stream",
     "text": [
      "Функция распределения величины X:\n"
     ]
    },
    {
     "data": {
      "text/latex": [
       "$\\displaystyle \\frac{2 x^{3}}{3} + \\frac{x}{3}$"
      ],
      "text/plain": [
       "2*x**3/3 + x/3"
      ]
     },
     "metadata": {},
     "output_type": "display_data"
    },
    {
     "name": "stdout",
     "output_type": "stream",
     "text": [
      "Функция распределения величины Y:\n"
     ]
    },
    {
     "data": {
      "text/latex": [
       "$\\displaystyle \\frac{y^{2}}{3} + \\frac{2 y}{3}$"
      ],
      "text/plain": [
       "y**2/3 + 2*y/3"
      ]
     },
     "metadata": {},
     "output_type": "display_data"
    },
    {
     "name": "stdout",
     "output_type": "stream",
     "text": [
      "Условная функция распределения величины X при условии Y:\n"
     ]
    },
    {
     "data": {
      "text/latex": [
       "$\\displaystyle \\frac{x^{3}}{y + 1} + \\frac{x y}{y + 1}$"
      ],
      "text/plain": [
       "x**3/(y + 1) + x*y/(y + 1)"
      ]
     },
     "metadata": {},
     "output_type": "display_data"
    },
    {
     "name": "stdout",
     "output_type": "stream",
     "text": [
      "Условная функция распределения величины Y при условии X:\n"
     ]
    },
    {
     "data": {
      "text/latex": [
       "$\\displaystyle \\frac{6 x^{2} y}{6 x^{2} + 1} + \\frac{y^{2}}{6 x^{2} + 1}$"
      ],
      "text/plain": [
       "6*x**2*y/(6*x**2 + 1) + y**2/(6*x**2 + 1)"
      ]
     },
     "metadata": {},
     "output_type": "display_data"
    }
   ],
   "source": [
    "distribution_function_x = syp.integrate(density_function_x, (x, 0, x)) # Функция распределения величины X\n",
    "distribution_function_y = syp.integrate(density_function_y, (y, 0, y)) # Функция распределения величины Y\n",
    "conditional_distribution_function_x = syp.integrate(conditional_density_function_x, (x, 0, x)) # Условная функция распределения величины X при условии Y\n",
    "conditional_distribution_function_y = syp.integrate(conditional_density_function_y, (y, 0, y)) # Условная функция распределения величины Y при условии X\n",
    "\n",
    "print(\"Функция распределения величины X:\")\n",
    "display(distribution_function_x)\n",
    "\n",
    "print(\"Функция распределения величины Y:\")\n",
    "display(distribution_function_y)\n",
    "\n",
    "print(\"Условная функция распределения величины X при условии Y:\")\n",
    "display(conditional_distribution_function_x)\n",
    "\n",
    "print(\"Условная функция распределения величины Y при условии X:\")\n",
    "display(conditional_distribution_function_y)\n"
   ]
  },
  {
   "cell_type": "code",
   "execution_count": 38,
   "metadata": {},
   "outputs": [
    {
     "name": "stdout",
     "output_type": "stream",
     "text": [
      "Обратная функция распределения величины X:\n"
     ]
    },
    {
     "data": {
      "text/latex": [
       "$\\displaystyle - \\frac{\\left(- \\frac{1}{2} - \\frac{\\sqrt{3} i}{2}\\right) \\sqrt[3]{- \\frac{81 f}{4} + \\frac{\\sqrt{\\frac{6561 f^{2}}{4} + \\frac{27}{2}}}{2}}}{3} + \\frac{1}{2 \\left(- \\frac{1}{2} - \\frac{\\sqrt{3} i}{2}\\right) \\sqrt[3]{- \\frac{81 f}{4} + \\frac{\\sqrt{\\frac{6561 f^{2}}{4} + \\frac{27}{2}}}{2}}}$"
      ],
      "text/plain": [
       "-(-1/2 - sqrt(3)*I/2)*(-81*f/4 + sqrt(6561*f**2/4 + 27/2)/2)**(1/3)/3 + 1/(2*(-1/2 - sqrt(3)*I/2)*(-81*f/4 + sqrt(6561*f**2/4 + 27/2)/2)**(1/3))"
      ]
     },
     "metadata": {},
     "output_type": "display_data"
    },
    {
     "data": {
      "text/latex": [
       "$\\displaystyle - \\frac{\\left(- \\frac{1}{2} + \\frac{\\sqrt{3} i}{2}\\right) \\sqrt[3]{- \\frac{81 f}{4} + \\frac{\\sqrt{\\frac{6561 f^{2}}{4} + \\frac{27}{2}}}{2}}}{3} + \\frac{1}{2 \\left(- \\frac{1}{2} + \\frac{\\sqrt{3} i}{2}\\right) \\sqrt[3]{- \\frac{81 f}{4} + \\frac{\\sqrt{\\frac{6561 f^{2}}{4} + \\frac{27}{2}}}{2}}}$"
      ],
      "text/plain": [
       "-(-1/2 + sqrt(3)*I/2)*(-81*f/4 + sqrt(6561*f**2/4 + 27/2)/2)**(1/3)/3 + 1/(2*(-1/2 + sqrt(3)*I/2)*(-81*f/4 + sqrt(6561*f**2/4 + 27/2)/2)**(1/3))"
      ]
     },
     "metadata": {},
     "output_type": "display_data"
    },
    {
     "data": {
      "text/latex": [
       "$\\displaystyle - \\frac{\\sqrt[3]{- \\frac{81 f}{4} + \\frac{\\sqrt{\\frac{6561 f^{2}}{4} + \\frac{27}{2}}}{2}}}{3} + \\frac{1}{2 \\sqrt[3]{- \\frac{81 f}{4} + \\frac{\\sqrt{\\frac{6561 f^{2}}{4} + \\frac{27}{2}}}{2}}}$"
      ],
      "text/plain": [
       "-(-81*f/4 + sqrt(6561*f**2/4 + 27/2)/2)**(1/3)/3 + 1/(2*(-81*f/4 + sqrt(6561*f**2/4 + 27/2)/2)**(1/3))"
      ]
     },
     "metadata": {},
     "output_type": "display_data"
    },
    {
     "name": "stdout",
     "output_type": "stream",
     "text": [
      "Обратная функция распределения величины Y:\n"
     ]
    },
    {
     "data": {
      "text/latex": [
       "$\\displaystyle - \\sqrt{3 f + 1} - 1$"
      ],
      "text/plain": [
       "-sqrt(3*f + 1) - 1"
      ]
     },
     "metadata": {},
     "output_type": "display_data"
    },
    {
     "data": {
      "text/latex": [
       "$\\displaystyle \\sqrt{3 f + 1} - 1$"
      ],
      "text/plain": [
       "sqrt(3*f + 1) - 1"
      ]
     },
     "metadata": {},
     "output_type": "display_data"
    },
    {
     "name": "stdout",
     "output_type": "stream",
     "text": [
      "Обратная условная функция распределения величины X при условии Y:\n"
     ]
    },
    {
     "data": {
      "text/latex": [
       "$\\displaystyle \\frac{y}{\\sqrt[3]{- \\frac{27 f y}{2} - \\frac{27 f}{2} + \\frac{\\sqrt{108 y^{3} + \\left(- 27 f y - 27 f\\right)^{2}}}{2}}} - \\frac{\\sqrt[3]{- \\frac{27 f y}{2} - \\frac{27 f}{2} + \\frac{\\sqrt{108 y^{3} + \\left(- 27 f y - 27 f\\right)^{2}}}{2}}}{3}$"
      ],
      "text/plain": [
       "y/(-27*f*y/2 - 27*f/2 + sqrt(108*y**3 + (-27*f*y - 27*f)**2)/2)**(1/3) - (-27*f*y/2 - 27*f/2 + sqrt(108*y**3 + (-27*f*y - 27*f)**2)/2)**(1/3)/3"
      ]
     },
     "metadata": {},
     "output_type": "display_data"
    },
    {
     "data": {
      "text/latex": [
       "$\\displaystyle \\frac{y}{\\left(- \\frac{1}{2} - \\frac{\\sqrt{3} i}{2}\\right) \\sqrt[3]{- \\frac{27 f y}{2} - \\frac{27 f}{2} + \\frac{\\sqrt{108 y^{3} + \\left(- 27 f y - 27 f\\right)^{2}}}{2}}} - \\frac{\\left(- \\frac{1}{2} - \\frac{\\sqrt{3} i}{2}\\right) \\sqrt[3]{- \\frac{27 f y}{2} - \\frac{27 f}{2} + \\frac{\\sqrt{108 y^{3} + \\left(- 27 f y - 27 f\\right)^{2}}}{2}}}{3}$"
      ],
      "text/plain": [
       "y/((-1/2 - sqrt(3)*I/2)*(-27*f*y/2 - 27*f/2 + sqrt(108*y**3 + (-27*f*y - 27*f)**2)/2)**(1/3)) - (-1/2 - sqrt(3)*I/2)*(-27*f*y/2 - 27*f/2 + sqrt(108*y**3 + (-27*f*y - 27*f)**2)/2)**(1/3)/3"
      ]
     },
     "metadata": {},
     "output_type": "display_data"
    },
    {
     "data": {
      "text/latex": [
       "$\\displaystyle \\frac{y}{\\left(- \\frac{1}{2} + \\frac{\\sqrt{3} i}{2}\\right) \\sqrt[3]{- \\frac{27 f y}{2} - \\frac{27 f}{2} + \\frac{\\sqrt{108 y^{3} + \\left(- 27 f y - 27 f\\right)^{2}}}{2}}} - \\frac{\\left(- \\frac{1}{2} + \\frac{\\sqrt{3} i}{2}\\right) \\sqrt[3]{- \\frac{27 f y}{2} - \\frac{27 f}{2} + \\frac{\\sqrt{108 y^{3} + \\left(- 27 f y - 27 f\\right)^{2}}}{2}}}{3}$"
      ],
      "text/plain": [
       "y/((-1/2 + sqrt(3)*I/2)*(-27*f*y/2 - 27*f/2 + sqrt(108*y**3 + (-27*f*y - 27*f)**2)/2)**(1/3)) - (-1/2 + sqrt(3)*I/2)*(-27*f*y/2 - 27*f/2 + sqrt(108*y**3 + (-27*f*y - 27*f)**2)/2)**(1/3)/3"
      ]
     },
     "metadata": {},
     "output_type": "display_data"
    },
    {
     "name": "stdout",
     "output_type": "stream",
     "text": [
      "Обратная условная функция распределения величины Y при условии X:\n"
     ]
    },
    {
     "data": {
      "text/latex": [
       "$\\displaystyle - 3 x^{2} - \\sqrt{6 f x^{2} + f + 9 x^{4}}$"
      ],
      "text/plain": [
       "-3*x**2 - sqrt(6*f*x**2 + f + 9*x**4)"
      ]
     },
     "metadata": {},
     "output_type": "display_data"
    },
    {
     "data": {
      "text/latex": [
       "$\\displaystyle - 3 x^{2} + \\sqrt{6 f x^{2} + f + 9 x^{4}}$"
      ],
      "text/plain": [
       "-3*x**2 + sqrt(6*f*x**2 + f + 9*x**4)"
      ]
     },
     "metadata": {},
     "output_type": "display_data"
    }
   ],
   "source": [
    "\n",
    "inverse_distribution_function_x = syp.solve(distribution_function_x - f, x) # Обратная функция распределения величины X\n",
    "inverse_distribution_function_y = syp.solve(distribution_function_y - f, y) # Обратная функция распределения величины Y\n",
    "\n",
    "inverse_conditional_distribution_function_x = syp.solve(conditional_distribution_function_x - f, x) # Обратная условная функция распределения величины X при условии Y\n",
    "inverse_conditional_distribution_function_y = syp.solve(conditional_distribution_function_y - f, y) # Обратная условная функция распределения величины Y при условии X\n",
    "\n",
    "inverse_distribution_functions = [inverse_distribution_function_x, inverse_distribution_function_y] # Массив обратных функций распределения\n",
    "inverse_conditional_distribution_functions = [inverse_conditional_distribution_function_x, inverse_conditional_distribution_function_y] # Массив обратных условных функций распределения\n",
    "function_symbols = [x, y] # Массив переменных для соответствующих функций\n",
    "\n",
    "print(\"Обратная функция распределения величины X:\")\n",
    "display(*inverse_distribution_function_x)\n",
    "\n",
    "print(\"Обратная функция распределения величины Y:\")\n",
    "display(*inverse_distribution_function_y)\n",
    "\n",
    "print(\"Обратная условная функция распределения величины X при условии Y:\")\n",
    "display(*inverse_conditional_distribution_function_x)\n",
    "\n",
    "print(\"Обратная условная функция распределения величины Y при условии X:\")\n",
    "display(*inverse_conditional_distribution_function_y)"
   ]
  },
  {
   "cell_type": "code",
   "execution_count": 39,
   "metadata": {},
   "outputs": [
    {
     "data": {
      "application/vnd.jupyter.widget-view+json": {
       "model_id": "c2fac8b319ad4365869a8fedb1898802",
       "version_major": 2,
       "version_minor": 0
      },
      "text/plain": [
       "Label(value='Выберите обратную функцию')"
      ]
     },
     "metadata": {},
     "output_type": "display_data"
    },
    {
     "data": {
      "application/vnd.jupyter.widget-view+json": {
       "model_id": "be1b357ceaa34fdabf036a1eff711a61",
       "version_major": 2,
       "version_minor": 0
      },
      "text/plain": [
       "Dropdown(options=([-(-1/2 - sqrt(3)*I/2)*(-81*f/4 + sqrt(6561*f**2/4 + 27/2)/2)**(1/3)/3 + 1/(2*(-1/2 - sqrt(3…"
      ]
     },
     "metadata": {},
     "output_type": "display_data"
    },
    {
     "data": {
      "application/vnd.jupyter.widget-view+json": {
       "model_id": "cb72c959e6024ee081f9a37ea237f194",
       "version_major": 2,
       "version_minor": 0
      },
      "text/plain": [
       "Button(description='Ok', style=ButtonStyle())"
      ]
     },
     "metadata": {},
     "output_type": "display_data"
    }
   ],
   "source": [
    "selected_distribution_function_index = inverse_distribution_functions.index(hf.selector(\"Выберите обратную функцию\", inverse_distribution_functions)) # Индекс выбранной обратной функции распределения для генерации\n",
    "selected_inverse_distribution_function = inverse_distribution_functions[selected_distribution_function_index] # Выбранная обратная функция распределения\n",
    "\n",
    "\n",
    "# Функция для генерации значения выбранной случайной величины\n",
    "def random_variable_generator():\n",
    "    for fu in selected_inverse_distribution_function:\n",
    "        v = fu.subs(f, rng.random())\n",
    "        if v.is_real and 0 <= v <= 1:\n",
    "            return v\n",
    "\n",
    "\n",
    "random_variable_values_first = [random_variable_generator() for _ in range(NUMBER_OF_RANDOM_VALUES)] # Генерация значений выбранной случайной величины"
   ]
  },
  {
   "cell_type": "code",
   "execution_count": 40,
   "metadata": {},
   "outputs": [],
   "source": [
    "inverse_conditional_distribution_function_index = 1 - selected_distribution_function_index # Индекс обратной условной функции распределения для невыбранной случайной величины\n",
    "inverse_conditional_distribution_function = inverse_conditional_distribution_functions[inverse_conditional_distribution_function_index] # Условная функция распределения для невыбранной случайной величины\n",
    "\n",
    "symbol_index = selected_distribution_function_index # Индекс символа для подстановки в условную функцию распределения\n",
    "symbol = function_symbols[symbol_index] # Символ для подстановки в условную функцию распределения\n",
    "\n",
    "\n",
    "# Функция для генерации значения двумерной случайной величины\n",
    "def two_dimensional_random_variable_generator(random_variable):\n",
    "    for fu in inverse_conditional_distribution_function:\n",
    "        inverse_conditional_distribution_function_substituted = fu.subs(symbol, random_variable) # Условная функция распределения невыбранной случайной величины при условии ith_random_variable_value_first\n",
    "        second_random_variable = inverse_conditional_distribution_function_substituted.subs(f, rng.random()) # Генерация значения невыбранной случайной величины при условии ith_random_variable_value_first\n",
    "        if second_random_variable.is_real and 0 <= second_random_variable <= 1:\n",
    "            return [random_variable, second_random_variable]\n",
    "\n",
    "\n",
    "random_variable_values = list(map(two_dimensional_random_variable_generator, random_variable_values_first)) # Массив значений двумерной случайной величины"
   ]
  },
  {
   "cell_type": "code",
   "execution_count": 41,
   "metadata": {},
   "outputs": [
    {
     "name": "stdout",
     "output_type": "stream",
     "text": [
      "Теоретическое математическое ожидание:  [2/3, 5/9]\n",
      "Теоретическая дисперсия:  [1/15, 13/162]\n",
      "Теоретическая ковариация:  -1/108\n",
      "Теоретический коэффициент корреляции случайных величин X и Y:  -0.126592420885458\n"
     ]
    }
   ],
   "source": [
    "mean_x = syp.integrate(syp.integrate(density_function * x, (y, 0, 1)), (x, 0, 1)) # Теоретическое математическое ожидание случайной величины X\n",
    "mean_y = syp.integrate(syp.integrate(density_function * y, (x, 0, 1)), (y, 0, 1)) # Теоретическое математическое ожидание случайной величины Y\n",
    "mean = [mean_x, mean_y]\n",
    "\n",
    "variance_x = syp.integrate(syp.integrate(density_function * (x - mean_x) ** 2, (y, 0, 1)), (x, 0, 1)) # Теоретическая дисперсия случайной величины X\n",
    "variance_y = syp.integrate(syp.integrate(density_function * (y - mean_y) ** 2, (x, 0, 1)), (y, 0, 1)) # Теоретическая дисперсия случайной величины Y\n",
    "variance = [variance_x, variance_y]\n",
    "\n",
    "covariance = syp.integrate(syp.integrate(density_function * (x - mean_x) * (y - mean_y), (x, 0, 1)), (y, 0, 1)) # Теоретическая ковариация случайных величин X и Y\n",
    "correlational_coefficient = covariance / (variance_x * variance_y) ** 0.5 # Теоретический коэффициент корреляции случайных величин X и Y\n",
    "\n",
    "print(\"Теоретическое математическое ожидание: \", mean)\n",
    "print(\"Теоретическая дисперсия: \", variance)\n",
    "print(\"Теоретическая ковариация: \", covariance)\n",
    "print(\"Теоретический коэффициент корреляции случайных величин X и Y: \", correlational_coefficient)"
   ]
  },
  {
   "cell_type": "code",
   "execution_count": 42,
   "metadata": {},
   "outputs": [],
   "source": [
    "# Эмпирические параметры\n",
    "def emperic_parameters(two_dimensional_random_variable):\n",
    "    # Вычисление эмпирического математического ожидания\n",
    "    e_mean = reduce(lambda prev, cur: [prev[0] + cur[0], prev[1] + cur[1]], random_variable_values)\n",
    "    e_mean[0] /= len(random_variable_values)\n",
    "    e_mean[1] /= len(random_variable_values)\n",
    "\n",
    "    # Вычисление эмпирической дисперсии\n",
    "    e_variance = reduce(lambda prev, cur: [prev[0] + (cur[0] - e_mean[0]) ** 2, prev[1] + (cur[1] - e_mean[1]) ** 2], random_variable_values)\n",
    "    e_variance[0] /= len(random_variable_values)\n",
    "    e_variance[1] /= len(random_variable_values)\n",
    "\n",
    "    # Вычисление эмперической ковариации\n",
    "    e_covariance = reduce(lambda prev, cur: prev + (cur[0] - e_mean[0]) * (cur[1] - e_mean[1]), random_variable_values, 0)\n",
    "    e_covariance /= len(random_variable_values)\n",
    "\n",
    "    # Вычисление эмперического коэффициента корреляции\n",
    "    e_correlational_coefficient = e_covariance / (e_variance[0] * e_variance[1]) ** 0.5\n",
    "    \n",
    "    return e_mean, e_variance, e_covariance, e_correlational_coefficient\n",
    "\n",
    "\n",
    "e_mean, e_variance, e_covariance, e_correlational_coefficient = emperic_parameters(random_variable_values)"
   ]
  },
  {
   "cell_type": "code",
   "execution_count": 43,
   "metadata": {},
   "outputs": [
    {
     "name": "stdout",
     "output_type": "stream",
     "text": [
      "Эмпирическое математическое ожидание:  [0.660784230163377, 0.560970038951383]\n",
      "Эмпирическая дисперсия:  [0.0695826759754753, 0.0773217868410552]\n",
      "Эмперическая ковариация:  -0.00959870766798848\n",
      "Эмперический коэффициент корреляции случайных величин X и Y:  -0.130861309283704\n"
     ]
    }
   ],
   "source": [
    "print(\"Эмпирическое математическое ожидание: \", e_mean)\n",
    "print(\"Эмпирическая дисперсия: \", e_variance)\n",
    "print(\"Эмперическая ковариация: \", e_covariance)\n",
    "print(\"Эмперический коэффициент корреляции случайных величин X и Y: \", e_correlational_coefficient)"
   ]
  },
  {
   "cell_type": "code",
   "execution_count": 44,
   "metadata": {},
   "outputs": [],
   "source": [
    "# Интервальная оценка коэффициента корреляции\n",
    "def interval_correlational_coefficient(two_dimensional_random_variable, confidence):\n",
    "    z = np.emath.arctanh(float(e_correlational_coefficient))\n",
    "    t = sp.special.erfinv(confidence)\n",
    "\n",
    "    interval_from = np.tanh(z - t / (len(random_variable_values) - 3) ** 0.5)\n",
    "    interval_to = np.tanh(z + t / (len(random_variable_values) - 3) ** 0.5)\n",
    "\n",
    "    return interval_from, interval_to"
   ]
  },
  {
   "cell_type": "code",
   "execution_count": 45,
   "metadata": {},
   "outputs": [
    {
     "data": {
      "application/vnd.jupyter.widget-view+json": {
       "model_id": "826d77119124406697650b29b808592b",
       "version_major": 2,
       "version_minor": 0
      },
      "text/plain": [
       "Label(value='Доверительная вероятность %')"
      ]
     },
     "metadata": {},
     "output_type": "display_data"
    },
    {
     "data": {
      "application/vnd.jupyter.widget-view+json": {
       "model_id": "064e6d0c589c43e082d4d5af65e6990c",
       "version_major": 2,
       "version_minor": 0
      },
      "text/plain": [
       "FloatText(value=0.0)"
      ]
     },
     "metadata": {},
     "output_type": "display_data"
    },
    {
     "data": {
      "application/vnd.jupyter.widget-view+json": {
       "model_id": "00491ce4aa194a539893d8617c0e9a11",
       "version_major": 2,
       "version_minor": 0
      },
      "text/plain": [
       "Button(description='Ok', style=ButtonStyle())"
      ]
     },
     "metadata": {},
     "output_type": "display_data"
    },
    {
     "name": "stdout",
     "output_type": "stream",
     "text": [
      "Доверительный интервал для коэффициента корреляции: [-0.166875966073541, -0.09449792482571066]\n"
     ]
    }
   ],
   "source": [
    "confidence = hf.float_input(\"Доверительная вероятность %\", 0, 100, 1, False, False)[0] / 100\n",
    "\n",
    "interval_from, interval_to = interval_correlational_coefficient(random_variable_values, confidence)\n",
    "\n",
    "print(f\"Доверительный интервал для коэффициента корреляции: [{interval_from}, {interval_to}]\")"
   ]
  },
  {
   "cell_type": "code",
   "execution_count": 46,
   "metadata": {},
   "outputs": [],
   "source": [
    "# Распределения значений по интервалам\n",
    "def distribute_by_intervals(two_dimensional_random_variable, number_of_blocks_x, number_of_blocks_y):\n",
    "    x_max = reduce(lambda acc, cur: acc if acc[0] > cur[0] else cur, random_variable_values)[0]\n",
    "    x_min = reduce(lambda acc, cur: acc if acc[0] < cur[0] else cur, random_variable_values)[0]\n",
    "    y_max = reduce(lambda acc, cur: acc if acc[1] > cur[1] else cur, random_variable_values)[1]\n",
    "    y_min = reduce(lambda acc, cur: acc if acc[1] < cur[1] else cur, random_variable_values)[1]\n",
    "\n",
    "    x_step = (x_max - x_min) / number_of_blocks_x\n",
    "    y_step = (y_max - y_min) / number_of_blocks_y\n",
    "\n",
    "    block_values = [[0 for _ in range(number_of_blocks_y + 1)] for _ in range(number_of_blocks_x + 1)]\n",
    "\n",
    "    # Распределение значений по интервалам\n",
    "    for value in random_variable_values:\n",
    "        i_index = int((value[0] - x_min) // x_step)\n",
    "        j_index = int((value[1] - y_min) // y_step)\n",
    "\n",
    "        if i_index < number_of_blocks_x and j_index < number_of_blocks_y:\n",
    "            block_values[i_index][j_index] += 1\n",
    "            block_values[i_index][-1] += 1\n",
    "            block_values[-1][j_index] += 1\n",
    "            block_values[-1][-1] += 1\n",
    "\n",
    "    return block_values, x_min, x_max, y_min, y_max, x_step, y_step"
   ]
  },
  {
   "cell_type": "code",
   "execution_count": 47,
   "metadata": {},
   "outputs": [],
   "source": [
    "# Гистограмма для первой величины\n",
    "def draw_hist_x(x_min, x_max, x_step, block_values):\n",
    "    number_of_blocks_x = len(block_values) - 1\n",
    "    columns = [x_min + value * x_step + x_step / 2 for value in range(number_of_blocks_x)] # Середина каждого интервала\n",
    "    heights = [block_values[i][-1] / block_values[-1][-1] / x_step for i in range(number_of_blocks_x)] # Высота каждого столбца\n",
    "    plt.bar(columns, heights, x_step)"
   ]
  },
  {
   "cell_type": "code",
   "execution_count": 48,
   "metadata": {},
   "outputs": [
    {
     "data": {
      "application/vnd.jupyter.widget-view+json": {
       "model_id": "24c061fca9f34f62b10c79a115fbb8bc",
       "version_major": 2,
       "version_minor": 0
      },
      "text/plain": [
       "Label(value='Количество интервалов первой величины')"
      ]
     },
     "metadata": {},
     "output_type": "display_data"
    },
    {
     "data": {
      "application/vnd.jupyter.widget-view+json": {
       "model_id": "f9200eaa413b449e97af38c7a9a76daf",
       "version_major": 2,
       "version_minor": 0
      },
      "text/plain": [
       "IntText(value=0)"
      ]
     },
     "metadata": {},
     "output_type": "display_data"
    },
    {
     "data": {
      "application/vnd.jupyter.widget-view+json": {
       "model_id": "693e3b1522af4b4896429757910338fe",
       "version_major": 2,
       "version_minor": 0
      },
      "text/plain": [
       "Button(description='Ok', style=ButtonStyle())"
      ]
     },
     "metadata": {},
     "output_type": "display_data"
    },
    {
     "data": {
      "application/vnd.jupyter.widget-view+json": {
       "model_id": "57b9125329114a11b505f3587125d5a8",
       "version_major": 2,
       "version_minor": 0
      },
      "text/plain": [
       "Label(value='Количество интервалов второй величины')"
      ]
     },
     "metadata": {},
     "output_type": "display_data"
    },
    {
     "data": {
      "application/vnd.jupyter.widget-view+json": {
       "model_id": "e9f981a4e2e74f93a39402fb5423a435",
       "version_major": 2,
       "version_minor": 0
      },
      "text/plain": [
       "IntText(value=0)"
      ]
     },
     "metadata": {},
     "output_type": "display_data"
    },
    {
     "data": {
      "application/vnd.jupyter.widget-view+json": {
       "model_id": "4584d619bfab43cdb766781ef27a9290",
       "version_major": 2,
       "version_minor": 0
      },
      "text/plain": [
       "Button(description='Ok', style=ButtonStyle())"
      ]
     },
     "metadata": {},
     "output_type": "display_data"
    },
    {
     "data": {
      "image/png": "[encoded data removed]",
      "text/plain": [
       "<Figure size 640x480 with 1 Axes>"
      ]
     },
     "metadata": {},
     "output_type": "display_data"
    }
   ],
   "source": [
    "number_of_blocks_x = hf.int_input(\"Количество интервалов первой величины\", 1, NUMBER_OF_RANDOM_VALUES, 1)[0]\n",
    "number_of_blocks_y = hf.int_input(\"Количество интервалов второй величины\", 1, NUMBER_OF_RANDOM_VALUES, 1)[0]\n",
    "block_values, x_min, x_max, y_min, y_max, x_step, y_step = distribute_by_intervals(random_variable_values, number_of_blocks_x, number_of_blocks_y)\n",
    "draw_hist_x(x_min, x_max, x_step, block_values)\n",
    "\n",
    "# Плотность вероятности для первой величины\n",
    "xs = np.linspace(x_min, x_max, DENSITY)\n",
    "zs = [density_function_x.subs(x, x_value) for x_value in xs]\n",
    "plt.plot(xs, zs)\n",
    "\n",
    "None"
   ]
  },
  {
   "cell_type": "code",
   "execution_count": 49,
   "metadata": {},
   "outputs": [],
   "source": [
    "# Гистограмма для второй величины\n",
    "def draw_hist_y(y_min, y_max, y_step, block_values):\n",
    "    number_of_blocks_y = len(block_values[0]) - 1\n",
    "    columns = [y_min + value * y_step + y_step / 2 for value in range(number_of_blocks_y)] # Середина каждого интервала\n",
    "    heights = [block_values[-1][j] / block_values[-1][-1] / y_step for j in range(number_of_blocks_y)] # Высота каждого столбца\n",
    "    plt.bar(columns, heights, y_step)"
   ]
  },
  {
   "cell_type": "code",
   "execution_count": 50,
   "metadata": {},
   "outputs": [
    {
     "data": {
      "image/png": "[encoded data removed]",
      "text/plain": [
       "<Figure size 640x480 with 1 Axes>"
      ]
     },
     "metadata": {},
     "output_type": "display_data"
    }
   ],
   "source": [
    "draw_hist_y(y_min, y_max, y_step, block_values)\n",
    "\n",
    "# Плотность вероятности для второй величины\n",
    "ys = np.linspace(y_min, y_max, DENSITY)\n",
    "zs = [density_function_y.subs(y, y_value) for y_value in ys]\n",
    "plt.plot(ys, zs)\n",
    "\n",
    "None"
   ]
  },
  {
   "cell_type": "markdown",
   "metadata": {},
   "source": [
    "### Дискретная случайная величина"
   ]
  },
  {
   "cell_type": "code",
   "execution_count": 51,
   "metadata": {},
   "outputs": [
    {
     "name": "stdout",
     "output_type": "stream",
     "text": [
      "Случайная величина X:  0.07 0.44 0.23 0.17 0.09\n",
      "Случайная величина Y:  0.15 0.39 0.19 0.15 0.12\n"
     ]
    }
   ],
   "source": [
    "DISCRETE_TWO_DIMENSIONAL_VARIABLE = [\n",
    "    [0.01,  0.01,   0.02,   0.02,   0.01],\n",
    "    [0.04,  0.3,    0.06,   0.03,   0.01],\n",
    "    [0.02,  0.03,   0.06,   0.07,   0.05],\n",
    "    [0.05,  0.03,   0.04,   0.02,   0.03],\n",
    "    [0.03,  0.02,   0.01,   0.01,   0.02]\n",
    "]\n",
    "\n",
    "\n",
    "x_variable = [sum(row) for row in DISCRETE_TWO_DIMENSIONAL_VARIABLE]\n",
    "y_variable = [sum(column) for column in zip(*DISCRETE_TWO_DIMENSIONAL_VARIABLE)]\n",
    "\n",
    "print(\"Случайная величина X: \", *x_variable)\n",
    "print(\"Случайная величина Y: \", *y_variable)"
   ]
  },
  {
   "cell_type": "code",
   "execution_count": 52,
   "metadata": {},
   "outputs": [
    {
     "name": "stdout",
     "output_type": "stream",
     "text": [
      "Условная случайная величина X при условии Y:\n",
      "0.06666666666666667\t0.26666666666666666\t0.13333333333333333\t0.33333333333333337\t0.2\n",
      "0.02564102564102564\t0.7692307692307692\t0.07692307692307691\t0.07692307692307691\t0.05128205128205128\n",
      "0.10526315789473684\t0.3157894736842105\t0.3157894736842105\t0.21052631578947367\t0.05263157894736842\n",
      "0.13333333333333333\t0.2\t0.46666666666666673\t0.13333333333333333\t0.06666666666666667\n",
      "0.08333333333333334\t0.08333333333333334\t0.4166666666666667\t0.25\t0.16666666666666669\n",
      "\n",
      "Условная случайная величина Y при условии X:\n",
      "0.14285714285714285\t0.14285714285714285\t0.2857142857142857\t0.2857142857142857\t0.14285714285714285\n",
      "0.09090909090909091\t0.6818181818181818\t0.13636363636363635\t0.06818181818181818\t0.022727272727272728\n",
      "0.08695652173913043\t0.13043478260869565\t0.2608695652173913\t0.30434782608695654\t0.21739130434782608\n",
      "0.29411764705882354\t0.1764705882352941\t0.23529411764705882\t0.11764705882352941\t0.1764705882352941\n",
      "0.3333333333333333\t0.22222222222222224\t0.11111111111111112\t0.11111111111111112\t0.22222222222222224\n",
      "\n"
     ]
    }
   ],
   "source": [
    "\n",
    "# Случайная величина X при условии Y\n",
    "conditional_x_variable = [[DISCRETE_TWO_DIMENSIONAL_VARIABLE[i][j] / y_variable[j] for i in range(len(DISCRETE_TWO_DIMENSIONAL_VARIABLE))] for j in range(len(DISCRETE_TWO_DIMENSIONAL_VARIABLE[0]))]\n",
    "# Случайная величина Y при условии X\n",
    "conditional_y_variable = [[DISCRETE_TWO_DIMENSIONAL_VARIABLE[i][j] / x_variable[i] for j in range(len(DISCRETE_TWO_DIMENSIONAL_VARIABLE[0]))] for i in range(len(DISCRETE_TWO_DIMENSIONAL_VARIABLE))]\n",
    "\n",
    "print(\"Условная случайная величина X при условии Y:\")\n",
    "for row in conditional_x_variable:\n",
    "    print(*row, sep='\\t')\n",
    "print()\n",
    "\n",
    "print(\"Условная случайная величина Y при условии X:\")\n",
    "for row in conditional_y_variable:\n",
    "    print(*row, sep=\"\\t\")\n",
    "print()"
   ]
  },
  {
   "cell_type": "code",
   "execution_count": 53,
   "metadata": {},
   "outputs": [
    {
     "data": {
      "application/vnd.jupyter.widget-view+json": {
       "model_id": "d688ae04e43f4cb4adfc2a825f56d2a6",
       "version_major": 2,
       "version_minor": 0
      },
      "text/plain": [
       "Label(value='Выберите первую случайную величину для генерации')"
      ]
     },
     "metadata": {},
     "output_type": "display_data"
    },
    {
     "data": {
      "application/vnd.jupyter.widget-view+json": {
       "model_id": "14fc4cbf235941fea30d423e4baf3ead",
       "version_major": 2,
       "version_minor": 0
      },
      "text/plain": [
       "Dropdown(options=('X', 'Y'), value='X')"
      ]
     },
     "metadata": {},
     "output_type": "display_data"
    },
    {
     "data": {
      "application/vnd.jupyter.widget-view+json": {
       "model_id": "c3489c08cffb450c9baf44e41bc5cb30",
       "version_major": 2,
       "version_minor": 0
      },
      "text/plain": [
       "Button(description='Ok', style=ButtonStyle())"
      ]
     },
     "metadata": {},
     "output_type": "display_data"
    }
   ],
   "source": [
    "variable_names = [\"X\", \"Y\"]\n",
    "variables = [x_variable, y_variable]\n",
    "conditional_variables = [conditional_x_variable, conditional_y_variable]\n",
    "\n",
    "selected_variable_index = variable_names.index(hf.selector(\"Выберите первую случайную величину для генерации\", variable_names))"
   ]
  },
  {
   "cell_type": "code",
   "execution_count": 54,
   "metadata": {},
   "outputs": [],
   "source": [
    "# Функция генерация значений дискретной случайной величины\n",
    "def generate_random_variable_values(variable_function, random_values_sorted):\n",
    "    result = []\n",
    "\n",
    "    i = 0\n",
    "    current_p = variable_function(i)\n",
    "\n",
    "    # Генерация значений случайной величины\n",
    "    for value in random_values_sorted:\n",
    "        while value > current_p:\n",
    "            i += 1\n",
    "            current_p = current_p + variable_function(i)\n",
    "        result.append(i)\n",
    "    \n",
    "    return result"
   ]
  },
  {
   "cell_type": "code",
   "execution_count": 55,
   "metadata": {},
   "outputs": [],
   "source": [
    "random_values_sorted = np.sort([rng.random() for _ in range(NUMBER_OF_RANDOM_VALUES)])\n",
    "selected_variable = variables[selected_variable_index]\n",
    "first_generation_function = lambda i_index: selected_variable[i_index]\n",
    "\n",
    "random_variable_values_first = generate_random_variable_values(first_generation_function, random_values_sorted) # Значения выбранной случайной величины"
   ]
  },
  {
   "cell_type": "code",
   "execution_count": 56,
   "metadata": {},
   "outputs": [],
   "source": [
    "conditional_not_selected_variable = conditional_variables[1 - selected_variable_index] # Условная случайная величина для генерации второй случайной величины\n",
    "\n",
    "random_variable_values_second = []\n",
    "\n",
    "# Генерация второй случайной величины\n",
    "for i in range(NUMBER_OF_RANDOM_VALUES):\n",
    "    second_generation_function = lambda j_index: conditional_not_selected_variable[random_variable_values_first[i]][j_index]\n",
    "    random_variable_values_second.append(generate_random_variable_values(second_generation_function, [rng.random()])[0])\n",
    "\n",
    "random_variable_values = list(zip(random_variable_values_first, random_variable_values_second))"
   ]
  },
  {
   "cell_type": "code",
   "execution_count": 57,
   "metadata": {},
   "outputs": [
    {
     "name": "stdout",
     "output_type": "stream",
     "text": [
      "Теоретическое математическое ожидание:  [1.77, 1.7]\n",
      "Теоретическая дисперсия:  [1.1970999999999998, 1.5299999999999998]\n",
      "Теоретическая ковариация:  0.13099999999999998\n",
      "Теоретический коэффициент корреляции случайных величин X и Y:  0.09679665838411211\n"
     ]
    }
   ],
   "source": [
    "mean_x = reduce(lambda prev, cur: prev + cur[1] * cur[0], enumerate(x_variable), 0) # Теоретическое математическое ожидание случайной величины X\n",
    "mean_y = reduce(lambda prev, cur: prev + cur[1] * cur[0], enumerate(y_variable), 0) # Теоретическое математическое ожидание случайной величины Y\n",
    "mean = [mean_x, mean_y]\n",
    "\n",
    "variance_x = reduce(lambda prev, cur: prev + cur[1] * (cur[0] - mean_x) ** 2, enumerate(x_variable), 0) # Теоретическая дисперсия случайной величины X\n",
    "variance_y = reduce(lambda prev, cur: prev + cur[1] * (cur[0] - mean_y) ** 2, enumerate(y_variable), 0) # Теоретическая дисперсия случайной величины Y\n",
    "variance = [variance_x, variance_y]\n",
    "\n",
    "# Теоретическая ковариация случайных величин X и Y\n",
    "covariance = 0\n",
    "for i, row in enumerate(DISCRETE_TWO_DIMENSIONAL_VARIABLE):\n",
    "    for j, val in enumerate(row):\n",
    "        covariance += val * (i - mean_x) * (j - mean_y)\n",
    "        \n",
    "correlational_coefficient = covariance / (variance_x * variance_y) ** 0.5 # Теоретический коэффициент корреляции случайных величин X и Y\n",
    "\n",
    "print(\"Теоретическое математическое ожидание: \", mean)\n",
    "print(\"Теоретическая дисперсия: \", variance)\n",
    "print(\"Теоретическая ковариация: \", covariance)\n",
    "print(\"Теоретический коэффициент корреляции случайных величин X и Y: \", correlational_coefficient)"
   ]
  },
  {
   "cell_type": "code",
   "execution_count": 58,
   "metadata": {},
   "outputs": [
    {
     "name": "stdout",
     "output_type": "stream",
     "text": [
      "Эмпирическое математическое ожидание:  [1.77, 1.681]\n",
      "Эмпирическая дисперсия:  [1.183967099999989, 1.536499238999995]\n",
      "Эмперическая ковариация:  0.08363000000000001\n",
      "Эмперический коэффициент корреляции случайных величин X и Y:  0.06200491333744023\n"
     ]
    }
   ],
   "source": [
    "e_mean, e_variance, e_covariance, e_correlational_coefficient = emperic_parameters(random_variable_values)\n",
    "\n",
    "print(\"Эмпирическое математическое ожидание: \", e_mean)\n",
    "print(\"Эмпирическая дисперсия: \", e_variance)\n",
    "print(\"Эмперическая ковариация: \", e_covariance)\n",
    "print(\"Эмперический коэффициент корреляции случайных величин X и Y: \", e_correlational_coefficient)"
   ]
  },
  {
   "cell_type": "code",
   "execution_count": 59,
   "metadata": {},
   "outputs": [
    {
     "data": {
      "application/vnd.jupyter.widget-view+json": {
       "model_id": "d22a9974184f44acbc1aed380b1c3e35",
       "version_major": 2,
       "version_minor": 0
      },
      "text/plain": [
       "Label(value='Доверительная вероятность %')"
      ]
     },
     "metadata": {},
     "output_type": "display_data"
    },
    {
     "data": {
      "application/vnd.jupyter.widget-view+json": {
       "model_id": "2d2722aa04154312bde1f64728ca3ee3",
       "version_major": 2,
       "version_minor": 0
      },
      "text/plain": [
       "FloatText(value=0.0)"
      ]
     },
     "metadata": {},
     "output_type": "display_data"
    },
    {
     "data": {
      "application/vnd.jupyter.widget-view+json": {
       "model_id": "c8347e945109438891d1391046623247",
       "version_major": 2,
       "version_minor": 0
      },
      "text/plain": [
       "Button(description='Ok', style=ButtonStyle())"
      ]
     },
     "metadata": {},
     "output_type": "display_data"
    },
    {
     "name": "stdout",
     "output_type": "stream",
     "text": [
      "Доверительный интервал для коэффициента корреляции: [0.025243854670723768, 0.09859850776088398]\n"
     ]
    }
   ],
   "source": [
    "confidence = hf.float_input(\"Доверительная вероятность %\", 0, 100, 1, False, False)[0] / 100\n",
    "\n",
    "interval_from, interval_to = interval_correlational_coefficient(random_variable_values, confidence)\n",
    "\n",
    "print(f\"Доверительный интервал для коэффициента корреляции: [{interval_from}, {interval_to}]\")"
   ]
  },
  {
   "cell_type": "code",
   "execution_count": 60,
   "metadata": {},
   "outputs": [],
   "source": [
    "number_of_blocks_x = len(variables[selected_variable_index])\n",
    "number_of_blocks_y = len(variables[1 - selected_variable_index])\n",
    "\n",
    "block_values, x_min, x_max, y_min, y_max, x_step, y_step = distribute_by_intervals(random_variable_values, number_of_blocks_x, number_of_blocks_y)"
   ]
  },
  {
   "cell_type": "code",
   "execution_count": 61,
   "metadata": {},
   "outputs": [
    {
     "data": {
      "image/png": "[encoded data removed]",
      "text/plain": [
       "<Figure size 640x480 with 1 Axes>"
      ]
     },
     "metadata": {},
     "output_type": "display_data"
    }
   ],
   "source": [
    "draw_hist_x(-0.5, 4.5, 1, block_values)"
   ]
  },
  {
   "cell_type": "code",
   "execution_count": 62,
   "metadata": {},
   "outputs": [
    {
     "data": {
      "image/png": "[encoded data removed]",
      "text/plain": [
       "<Figure size 640x480 with 1 Axes>"
      ]
     },
     "metadata": {},
     "output_type": "display_data"
    }
   ],
   "source": [
    "draw_hist_y(-0.5, 4.5, 1, block_values)"
   ]
  }
 ],
 "metadata": {
  "kernelspec": {
   "display_name": ".venv",
   "language": "python",
   "name": "python3"
  },
  "language_info": {
   "codemirror_mode": {
    "name": "ipython",
    "version": 3
   },
   "file_extension": ".py",
   "mimetype": "text/x-python",
   "name": "python",
   "nbconvert_exporter": "python",
   "pygments_lexer": "ipython3",
   "version": "3.12.5"
  }
 },
 "nbformat": 4,
 "nbformat_minor": 2
}
