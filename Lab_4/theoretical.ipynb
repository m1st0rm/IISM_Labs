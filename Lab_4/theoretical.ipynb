{
 "cells": [
  {
   "metadata": {},
   "cell_type": "markdown",
   "source": [
    "Автозаправочная станция (АЗС) имеет две колонки (n = 2); площадка\n",
    "возле нее допускает одновременное ожидание не более четырех\n",
    "автомобилей (m = 4). Поток автомобилей, прибывающих на станцию,\n",
    "простейший с интенсивностью lambda = 1 авт/мин. Время обслуживания\n",
    "автомобиля — показательное со средним значением toбc = 2 мин. Найти\n",
    "финальные вероятности состояний АЗС и ее характеристики: A, Q, Pотк, среднее число заявок в очереди, среднее время пребывания заявки в системе."
   ],
   "id": "c8677b8e59986dd"
  },
  {
   "metadata": {
    "ExecuteTime": {
     "end_time": "2024-12-22T20:29:46.800050Z",
     "start_time": "2024-12-22T20:29:46.789819Z"
    }
   },
   "cell_type": "code",
   "source": [
    "from IPython.display import Markdown, display\n",
    "import math\n",
    "\n",
    "\n",
    "N = 2\n",
    "V = 4\n",
    "LAMBDA = 1\n",
    "SERVICE_TIME = 2\n",
    "\n",
    "display(Markdown(f'### Исходные данные о СМО (классифицируется как многоканальная СМО с ограниченной очередью):'))\n",
    "display(Markdown(f'Количество каналов обслуживания: $ N = {N} $'))\n",
    "display(Markdown(f'Количество мест в очереди ожидания: $ V_{{очереди}} = {V} $'))\n",
    "display(Markdown(f'Интенсивность потока заявок: $ \\\\lambda  = {LAMBDA} $'))\n",
    "display(Markdown(f'Среднее время обслуживания одной заявки: $ t_{{обслуживания}} = {SERVICE_TIME} $\\n\\n---'))\n",
    "\n"
   ],
   "id": "5a722d87da8675ca",
   "outputs": [
    {
     "data": {
      "text/plain": [
       "<IPython.core.display.Markdown object>"
      ],
      "text/markdown": "### Исходные данные о СМО (классифицируется как многоканальная СМО с ограниченной очередью):"
     },
     "metadata": {},
     "output_type": "display_data"
    },
    {
     "data": {
      "text/plain": [
       "<IPython.core.display.Markdown object>"
      ],
      "text/markdown": "Количество каналов обслуживания: $ N = 2 $"
     },
     "metadata": {},
     "output_type": "display_data"
    },
    {
     "data": {
      "text/plain": [
       "<IPython.core.display.Markdown object>"
      ],
      "text/markdown": "Количество мест в очереди ожидания: $ V_{очереди} = 4 $"
     },
     "metadata": {},
     "output_type": "display_data"
    },
    {
     "data": {
      "text/plain": [
       "<IPython.core.display.Markdown object>"
      ],
      "text/markdown": "Интенсивность потока заявок: $ \\lambda  = 1 $"
     },
     "metadata": {},
     "output_type": "display_data"
    },
    {
     "data": {
      "text/plain": [
       "<IPython.core.display.Markdown object>"
      ],
      "text/markdown": "Среднее время обслуживания одной заявки: $ t_{обслуживания} = 2 $\n\n---"
     },
     "metadata": {},
     "output_type": "display_data"
    }
   ],
   "execution_count": 23
  },
  {
   "metadata": {
    "ExecuteTime": {
     "end_time": "2024-12-22T20:29:46.837508Z",
     "start_time": "2024-12-22T20:29:46.828063Z"
    }
   },
   "cell_type": "code",
   "source": [
    "MU = SERVICE_TIME**-1\n",
    "M = V + N\n",
    "RHO = LAMBDA/MU\n",
    "display(Markdown('### Полученные данные о СМО:'))\n",
    "display(Markdown(f'Интенсивность потока обслуживания заявок: $ \\\\mu = \\\\frac{{1}}{{t_{{обслуживания}}}} = {MU} $'))\n",
    "display(Markdown(f'Общее количество мест в системе: $ M = N + V_{{очереди}} = {M} $'))\n",
    "display(Markdown(f'Коэффициент загрузки системы: $ \\\\rho = \\\\frac{{\\\\lambda}}{{\\\\mu}} = {int(RHO)} $\\n\\n---'))"
   ],
   "id": "eddc3525357bed09",
   "outputs": [
    {
     "data": {
      "text/plain": [
       "<IPython.core.display.Markdown object>"
      ],
      "text/markdown": "### Полученные данные о СМО:"
     },
     "metadata": {},
     "output_type": "display_data"
    },
    {
     "data": {
      "text/plain": [
       "<IPython.core.display.Markdown object>"
      ],
      "text/markdown": "Интенсивность потока обслуживания заявок: $ \\mu = \\frac{1}{t_{обслуживания}} = 0.5 $"
     },
     "metadata": {},
     "output_type": "display_data"
    },
    {
     "data": {
      "text/plain": [
       "<IPython.core.display.Markdown object>"
      ],
      "text/markdown": "Общее количество мест в системе: $ M = N + V_{очереди} = 6 $"
     },
     "metadata": {},
     "output_type": "display_data"
    },
    {
     "data": {
      "text/plain": [
       "<IPython.core.display.Markdown object>"
      ],
      "text/markdown": "Коэффициент загрузки системы: $ \\rho = \\frac{\\lambda}{\\mu} = 2 $\n\n---"
     },
     "metadata": {},
     "output_type": "display_data"
    }
   ],
   "execution_count": 24
  },
  {
   "metadata": {},
   "cell_type": "markdown",
   "source": [
    "### Формулы для расчёта предельных (финальных) вероятностей:\n",
    "\n",
    "Предельная вероятность системы в состоянии 0 (когда нет ни одной заявки):\n",
    "\n",
    "$$\n",
    "P_0 = \\frac{1}{\\sum_{i=0}^{n} \\frac{\\rho^i}{i!} + \\frac{\\rho^n}{n!} \\cdot \\sum_{j=1}^{m-n} \\left(\\frac{\\rho}{n}\\right)^j}\n",
    "$$\n",
    "\n",
    "\n",
    "Предельная вероятность системы в состоянии $k$:\n",
    "\n",
    "$$\n",
    "P_k = P_0 \\cdot \\frac{\\rho^k}{k!}, \\quad \\text{для} \\quad k \\leq n\n",
    "$$\n",
    "\n",
    "$$\n",
    "P_k = P_0 \\cdot \\frac{\\rho^n}{n!} \\cdot \\left(\\frac{\\rho}{n}\\right)^{k-n}, \\quad \\text{для} \\quad k > n\n",
    "$$\n",
    "---\n"
   ],
   "id": "6cd82b86fe0d8db2"
  },
  {
   "metadata": {},
   "cell_type": "markdown",
   "source": "### **Состояние $P_0$: система пуста**",
   "id": "81f888dccb46e2df"
  },
  {
   "metadata": {
    "ExecuteTime": {
     "end_time": "2024-12-22T20:29:46.859568Z",
     "start_time": "2024-12-22T20:29:46.854529Z"
    }
   },
   "cell_type": "code",
   "source": [
    "SUM_0_1 = 0\n",
    "\n",
    "for i in range(0, N+1):\n",
    "    SUM_0_1 += (RHO**i / math.factorial(i))\n",
    "    \n",
    "SUM_0_2 = 0\n",
    "\n",
    "for j in range(1, M-N+1):\n",
    "    SUM_0_2 += (RHO / N)**j\n",
    "    \n",
    "P_0 = 1/(SUM_0_1 + (RHO**N/math.factorial(N)) * SUM_0_2)\n",
    "\n",
    "display(Markdown(f'Вероятность $ P_0 = {P_0} $\\n\\n---'))"
   ],
   "id": "8a05f5c215df65e5",
   "outputs": [
    {
     "data": {
      "text/plain": [
       "<IPython.core.display.Markdown object>"
      ],
      "text/markdown": "Вероятность $ P_0 = 0.07692307692307693 $\n\n---"
     },
     "metadata": {},
     "output_type": "display_data"
    }
   ],
   "execution_count": 25
  },
  {
   "metadata": {},
   "cell_type": "markdown",
   "source": "### **Состояние $P_1$: один из двух каналов обслуживания занят, очередь пуста**",
   "id": "5d26daa40b7eb547"
  },
  {
   "metadata": {
    "ExecuteTime": {
     "end_time": "2024-12-22T20:29:46.905698Z",
     "start_time": "2024-12-22T20:29:46.901580Z"
    }
   },
   "cell_type": "code",
   "source": [
    "K_1 = 1\n",
    "P_1 = P_0*(RHO**K_1/math.factorial(K_1))\n",
    "\n",
    "display(Markdown(f'Вероятность $ P_1 = {P_1} $\\n\\n---'))"
   ],
   "id": "9d4851793d890c7b",
   "outputs": [
    {
     "data": {
      "text/plain": [
       "<IPython.core.display.Markdown object>"
      ],
      "text/markdown": "Вероятность $ P_1 = 0.15384615384615385 $\n\n---"
     },
     "metadata": {},
     "output_type": "display_data"
    }
   ],
   "execution_count": 26
  },
  {
   "metadata": {},
   "cell_type": "markdown",
   "source": "### **Состояние $P_2$: два из двух каналов обслуживания заняты, очередь пуста**",
   "id": "9879054f35651657"
  },
  {
   "metadata": {
    "ExecuteTime": {
     "end_time": "2024-12-22T20:29:46.927263Z",
     "start_time": "2024-12-22T20:29:46.922716Z"
    }
   },
   "cell_type": "code",
   "source": [
    "K_2 = 2\n",
    "P_2 = P_0*(RHO**K_2/math.factorial(K_2))\n",
    "\n",
    "display(Markdown(f'Вероятность $ P_2 = {P_2} $\\n\\n---'))"
   ],
   "id": "7e70c65d74cdf3f1",
   "outputs": [
    {
     "data": {
      "text/plain": [
       "<IPython.core.display.Markdown object>"
      ],
      "text/markdown": "Вероятность $ P_2 = 0.15384615384615385 $\n\n---"
     },
     "metadata": {},
     "output_type": "display_data"
    }
   ],
   "execution_count": 27
  },
  {
   "metadata": {},
   "cell_type": "markdown",
   "source": "### **Состояние $P_3$: два из двух каналов обслуживания заняты, в очереди одна заявка**",
   "id": "75c7cc50dd1cc41a"
  },
  {
   "metadata": {
    "ExecuteTime": {
     "end_time": "2024-12-22T20:29:46.963742Z",
     "start_time": "2024-12-22T20:29:46.959278Z"
    }
   },
   "cell_type": "code",
   "source": [
    "K_3 = 3\n",
    "P_3 = P_0*(RHO**N/math.factorial(N))*((RHO/N)**(K_3-N))\n",
    "\n",
    "display(Markdown(f'Вероятность $ P_3 = {P_3} $\\n\\n---'))"
   ],
   "id": "9ceb4dd59b1cb4fa",
   "outputs": [
    {
     "data": {
      "text/plain": [
       "<IPython.core.display.Markdown object>"
      ],
      "text/markdown": "Вероятность $ P_3 = 0.15384615384615385 $\n\n---"
     },
     "metadata": {},
     "output_type": "display_data"
    }
   ],
   "execution_count": 28
  },
  {
   "metadata": {},
   "cell_type": "markdown",
   "source": "### **Состояние $P_4$: два из двух каналов обслуживания заняты, в очереди две заявки**",
   "id": "d8ecb1b6ef545470"
  },
  {
   "metadata": {
    "ExecuteTime": {
     "end_time": "2024-12-22T20:29:46.982852Z",
     "start_time": "2024-12-22T20:29:46.977757Z"
    }
   },
   "cell_type": "code",
   "source": [
    "K_4 = 4\n",
    "P_4 = P_0*(RHO**N/math.factorial(N))*((RHO/N)**(K_4-N))\n",
    "\n",
    "display(Markdown(f'Вероятность $ P_4 = {P_4} $\\n\\n---'))"
   ],
   "id": "373ef20df94b3770",
   "outputs": [
    {
     "data": {
      "text/plain": [
       "<IPython.core.display.Markdown object>"
      ],
      "text/markdown": "Вероятность $ P_4 = 0.15384615384615385 $\n\n---"
     },
     "metadata": {},
     "output_type": "display_data"
    }
   ],
   "execution_count": 29
  },
  {
   "metadata": {},
   "cell_type": "markdown",
   "source": "### **Состояние $P_5$: два из двух каналов обслуживания заняты, в очереди три заявки**",
   "id": "2cbecf3cc866a2d5"
  },
  {
   "metadata": {
    "ExecuteTime": {
     "end_time": "2024-12-22T20:29:46.998410Z",
     "start_time": "2024-12-22T20:29:46.993868Z"
    }
   },
   "cell_type": "code",
   "source": [
    "K_5 = 5\n",
    "P_5 = P_0*(RHO**N/math.factorial(N))*((RHO/N)**(K_5-N))\n",
    "\n",
    "display(Markdown(f'Вероятность $ P_5 = {P_5} $\\n\\n---'))"
   ],
   "id": "662c0e2e4e39eb9f",
   "outputs": [
    {
     "data": {
      "text/plain": [
       "<IPython.core.display.Markdown object>"
      ],
      "text/markdown": "Вероятность $ P_5 = 0.15384615384615385 $\n\n---"
     },
     "metadata": {},
     "output_type": "display_data"
    }
   ],
   "execution_count": 30
  },
  {
   "metadata": {},
   "cell_type": "markdown",
   "source": "### **Состояние $P_6$: два из двух каналов обслуживания заняты, в очереди четыре заявки**",
   "id": "83757d7faa2da290"
  },
  {
   "metadata": {
    "ExecuteTime": {
     "end_time": "2024-12-22T20:29:47.036678Z",
     "start_time": "2024-12-22T20:29:47.031428Z"
    }
   },
   "cell_type": "code",
   "source": [
    "K_6 = 6\n",
    "P_6 = P_0*(RHO**N/math.factorial(N))*((RHO/N)**(K_6-N))\n",
    "\n",
    "display(Markdown(f'Вероятность $ P_6 = {P_6} $\\n\\n---'))"
   ],
   "id": "58af65dfff6d60ec",
   "outputs": [
    {
     "data": {
      "text/plain": [
       "<IPython.core.display.Markdown object>"
      ],
      "text/markdown": "Вероятность $ P_6 = 0.15384615384615385 $\n\n---"
     },
     "metadata": {},
     "output_type": "display_data"
    }
   ],
   "execution_count": 31
  },
  {
   "metadata": {},
   "cell_type": "markdown",
   "source": "### **Вероятность отказа равняется вероятности состояния системы, когда все каналы обслуживания и очередь ожидания полностью заняты: $P_6 = P_{отказа}$**",
   "id": "d2e8b0e11dac3e79"
  },
  {
   "metadata": {
    "ExecuteTime": {
     "end_time": "2024-12-22T20:29:47.071895Z",
     "start_time": "2024-12-22T20:29:47.067690Z"
    }
   },
   "cell_type": "code",
   "source": [
    "P_rejection = P_6\n",
    "\n",
    "display(Markdown(f'Вероятность отказа $ P_{{отказа}} = {P_rejection} $\\n\\n---'))"
   ],
   "id": "43bd690b5fd4adf1",
   "outputs": [
    {
     "data": {
      "text/plain": [
       "<IPython.core.display.Markdown object>"
      ],
      "text/markdown": "Вероятность отказа $ P_{отказа} = 0.15384615384615385 $\n\n---"
     },
     "metadata": {},
     "output_type": "display_data"
    }
   ],
   "execution_count": 32
  },
  {
   "metadata": {},
   "cell_type": "markdown",
   "source": [
    "### Формулы для расчёта характеристик СМО:\n",
    "\n",
    "Относительная пропускная способность (отношение среднего числа заявок, обслуживаемых системой в единицу времени, к среднему числу поступающих за это время заявок) $Q$:\n",
    "\n",
    "\n",
    "$$\n",
    "Q = 1 - P_{отказа}\n",
    "$$\n",
    "\n",
    "\n",
    "Абсолютная пропускная способность (среднее число заявок, которое может обслужить система за единицу времени) $A$:\n",
    "\n",
    "\n",
    "$$\n",
    "A = \\lambda \\cdot Q\n",
    "$$\n",
    "\n",
    "\n",
    "Среднее число заявок под обслуживанием $L_{обслужвания}$:\n",
    "\n",
    "\n",
    "$$\n",
    "L_{обслужвания} = {\\rho} \\cdot Q\n",
    "$$\n",
    "\n",
    "\n",
    "Среднее число заявок в очереди ожидания $L_{очереди}$:\n",
    "\n",
    "\n",
    "$$\n",
    "L_{очереди} = \\frac{\\rho^{n+1}}{n \\cdot n!} \\cdot \\frac{(M-N) \\cdot ((M-N) + 1)}{2} \\cdot P_0\n",
    "$$\n",
    "\n",
    "\n",
    "Среднее число заявок в системе $L_{системы}$:\n",
    "\n",
    "\n",
    "$$\n",
    "L_{системы} = L_{обслуживания} + L_{очереди}\n",
    "$$\n",
    "\n",
    "\n",
    "Среднее время нахожденя заявки в системе $T_{системы}$:\n",
    "\n",
    "\n",
    "$$\n",
    "T_{системы} = \\frac{L_{обслуживания} + L_{очереди}}{A} = \\frac{L_{системы}}{A}\n",
    "$$"
   ],
   "id": "f2d1ad74141bc0bd"
  },
  {
   "metadata": {
    "ExecuteTime": {
     "end_time": "2024-12-22T20:29:47.124663Z",
     "start_time": "2024-12-22T20:29:47.113914Z"
    }
   },
   "cell_type": "code",
   "source": [
    "Q = 1-P_rejection\n",
    "A = LAMBDA*Q\n",
    "L_service = RHO*Q\n",
    "L_queue = ((RHO**(N+1) /(N * math.factorial(N))) * (((M-N) * ((M-N)+1))/2) * P_0)\n",
    "L_system = L_service + L_queue\n",
    "T_system = L_system/A\n",
    "\n",
    "display(Markdown(f\"Относительная пропускная способность $ Q = {Q} $\"))\n",
    "display(Markdown(f\"Абсолютная пропускная способность $ A = {A} $\"))\n",
    "display(Markdown(f\"Среднее число заявок под обслуживанием $ L_{{обслуживания}} = {L_service} $\"))\n",
    "display(Markdown(f\"Среднее число заявок в очереди ожидания $ L_{{очереди}} = {L_queue} $\"))\n",
    "display(Markdown(f\"Среднее число заявок в системе $ L_{{системы}} = {L_system} $\"))\n",
    "display(Markdown(f\"Среднее время нахожденя заявки в системе $ T_{{системы}} = {T_system} $\\n\\n---\"))"
   ],
   "id": "da9abf84b62e1274",
   "outputs": [
    {
     "data": {
      "text/plain": [
       "<IPython.core.display.Markdown object>"
      ],
      "text/markdown": "Относительная пропускная способность $ Q = 0.8461538461538461 $"
     },
     "metadata": {},
     "output_type": "display_data"
    },
    {
     "data": {
      "text/plain": [
       "<IPython.core.display.Markdown object>"
      ],
      "text/markdown": "Абсолютная пропускная способность $ A = 0.8461538461538461 $"
     },
     "metadata": {},
     "output_type": "display_data"
    },
    {
     "data": {
      "text/plain": [
       "<IPython.core.display.Markdown object>"
      ],
      "text/markdown": "Среднее число заявок под обслуживанием $ L_{обслуживания} = 1.6923076923076923 $"
     },
     "metadata": {},
     "output_type": "display_data"
    },
    {
     "data": {
      "text/plain": [
       "<IPython.core.display.Markdown object>"
      ],
      "text/markdown": "Среднее число заявок в очереди ожидания $ L_{очереди} = 1.5384615384615385 $"
     },
     "metadata": {},
     "output_type": "display_data"
    },
    {
     "data": {
      "text/plain": [
       "<IPython.core.display.Markdown object>"
      ],
      "text/markdown": "Среднее число заявок в системе $ L_{системы} = 3.230769230769231 $"
     },
     "metadata": {},
     "output_type": "display_data"
    },
    {
     "data": {
      "text/plain": [
       "<IPython.core.display.Markdown object>"
      ],
      "text/markdown": "Среднее время нахожденя заявки в системе $ T_{системы} = 3.8181818181818183 $\n\n---"
     },
     "metadata": {},
     "output_type": "display_data"
    }
   ],
   "execution_count": 33
  }
 ],
 "metadata": {
  "kernelspec": {
   "display_name": "Python 3",
   "language": "python",
   "name": "python3"
  },
  "language_info": {
   "codemirror_mode": {
    "name": "ipython",
    "version": 2
   },
   "file_extension": ".py",
   "mimetype": "text/x-python",
   "name": "python",
   "nbconvert_exporter": "python",
   "pygments_lexer": "ipython2",
   "version": "2.7.6"
  }
 },
 "nbformat": 4,
 "nbformat_minor": 5
}
