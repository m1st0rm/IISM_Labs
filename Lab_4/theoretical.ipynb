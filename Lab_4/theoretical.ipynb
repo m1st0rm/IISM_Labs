{
 "cells": [
  {
   "metadata": {},
   "cell_type": "markdown",
   "source": [
    "Автозаправочная станция (АЗС) имеет две колонки (n = 2); площадка\n",
    "возле нее допускает одновременное ожидание не более четырех\n",
    "автомобилей (m = 4). Поток автомобилей, прибывающих на станцию,\n",
    "простейший с интенсивностью lambda = 1 авт/мин. Время обслуживания\n",
    "автомобиля — показательное со средним значением toбc = 2 мин. Найти\n",
    "финальные вероятности состояний АЗС и ее характеристики: A, Q, Pотк, среднее число заявок в очереди, среднее время пребывания заявки в системе."
   ],
   "id": "c8677b8e59986dd"
  },
  {
   "cell_type": "code",
   "id": "initial_id",
   "metadata": {
    "collapsed": true,
    "ExecuteTime": {
     "end_time": "2024-12-21T21:10:40.502577Z",
     "start_time": "2024-12-21T21:10:40.489246Z"
    }
   },
   "source": [
    "from IPython.display import Markdown, display\n",
    "import math\n",
    "import pandas as pd\n",
    "\n",
    "\n",
    "N = 2\n",
    "V = 4\n",
    "LAMBDA = 1\n",
    "SERVICE_TIME = 2\n",
    "\n",
    "display(Markdown(f'### Исходные данные о СМО (классифицируется как многоканальная СМО с ограниченной очередью):'))\n",
    "display(Markdown(f'Количество каналов обслуживания: $ N = {N} $'))\n",
    "display(Markdown(f'Количество мест в очереди ожидания: $ V_{{очереди}} = {V} $'))\n",
    "display(Markdown(f'Интенсивность потока заявок: $ \\\\lambda  = {LAMBDA} $'))\n",
    "display(Markdown(f'Среднее время обслуживания одной заявки: $ t_{{обслуживания}} = {SERVICE_TIME} $\\n\\n---'))\n",
    "\n"
   ],
   "outputs": [
    {
     "data": {
      "text/plain": [
       "<IPython.core.display.Markdown object>"
      ],
      "text/markdown": "### Исходные данные о СМО (классифицируется как многоканальная СМО с ограниченной очередью):"
     },
     "metadata": {},
     "output_type": "display_data"
    },
    {
     "data": {
      "text/plain": [
       "<IPython.core.display.Markdown object>"
      ],
      "text/markdown": "Количество каналов обслуживания: $ N = 2 $"
     },
     "metadata": {},
     "output_type": "display_data"
    },
    {
     "data": {
      "text/plain": [
       "<IPython.core.display.Markdown object>"
      ],
      "text/markdown": "Количество мест в очереди ожидания: $ V_{очереди} = 4 $"
     },
     "metadata": {},
     "output_type": "display_data"
    },
    {
     "data": {
      "text/plain": [
       "<IPython.core.display.Markdown object>"
      ],
      "text/markdown": "Интенсивность потока заявок: $ \\lambda  = 1 $"
     },
     "metadata": {},
     "output_type": "display_data"
    },
    {
     "data": {
      "text/plain": [
       "<IPython.core.display.Markdown object>"
      ],
      "text/markdown": "Среднее время обслуживания одной заявки: $ t_{обслуживания} = 2 $\n\n---"
     },
     "metadata": {},
     "output_type": "display_data"
    }
   ],
   "execution_count": 89
  },
  {
   "metadata": {
    "ExecuteTime": {
     "end_time": "2024-12-21T21:10:40.550717Z",
     "start_time": "2024-12-21T21:10:40.538594Z"
    }
   },
   "cell_type": "code",
   "source": [
    "MU = SERVICE_TIME**-1\n",
    "M = V + N\n",
    "RHO = LAMBDA/MU\n",
    "display(Markdown('### Полученные данные о СМО:'))\n",
    "display(Markdown(f'Интенсивность потока обслуживания заявок: $ \\\\mu = \\\\frac{{1}}{{t_{{обслуживания}}}} = {MU} $'))\n",
    "display(Markdown(f'Общее количество мест в системе: $ M = N + V_{{очереди}} = {M} $'))\n",
    "display(Markdown(f'Коэффициент загрузки системы: $ \\\\rho = \\\\frac{{\\\\lambda}}{{\\\\mu}} = {int(RHO)} $\\n\\n---'))"
   ],
   "id": "ca31841b11bce4b7",
   "outputs": [
    {
     "data": {
      "text/plain": [
       "<IPython.core.display.Markdown object>"
      ],
      "text/markdown": "### Полученные данные о СМО:"
     },
     "metadata": {},
     "output_type": "display_data"
    },
    {
     "data": {
      "text/plain": [
       "<IPython.core.display.Markdown object>"
      ],
      "text/markdown": "Интенсивность потока обслуживания заявок: $ \\mu = \\frac{1}{t_{обслуживания}} = 0.5 $"
     },
     "metadata": {},
     "output_type": "display_data"
    },
    {
     "data": {
      "text/plain": [
       "<IPython.core.display.Markdown object>"
      ],
      "text/markdown": "Общее количество мест в системе: $ M = N + V_{очереди} = 6 $"
     },
     "metadata": {},
     "output_type": "display_data"
    },
    {
     "data": {
      "text/plain": [
       "<IPython.core.display.Markdown object>"
      ],
      "text/markdown": "Коэффициент загрузки системы: $ \\rho = \\frac{\\lambda}{\\mu} = 2 $\n\n---"
     },
     "metadata": {},
     "output_type": "display_data"
    }
   ],
   "execution_count": 90
  },
  {
   "metadata": {},
   "cell_type": "markdown",
   "source": [
    "### Формулы для расчёта предельных (финальных) вероятностей:\n",
    "\n",
    "Предельная вероятность системы в состоянии 0 (когда нет ни одной заявки):\n",
    "\n",
    "$$\n",
    "P_0 = \\frac{1}{\\sum_{i=0}^{n} \\frac{\\rho^i}{i!} + \\frac{\\rho^n}{n!} \\cdot \\sum_{j=1}^{m-n} \\left(\\frac{\\rho}{n}\\right)^j}\n",
    "$$\n",
    "\n",
    "\n",
    "Предельная вероятность системы в состоянии $k$:\n",
    "\n",
    "$$\n",
    "P_k = P_0 \\cdot \\frac{\\rho^k}{k!}, \\quad \\text{для} \\quad k \\leq n\n",
    "$$\n",
    "\n",
    "$$\n",
    "P_k = P_0 \\cdot \\frac{\\rho^n}{n!} \\cdot \\left(\\frac{\\rho}{n}\\right)^{k-n}, \\quad \\text{для} \\quad k > n\n",
    "$$\n",
    "---\n"
   ],
   "id": "a615f433342cf61b"
  },
  {
   "metadata": {},
   "cell_type": "markdown",
   "source": "### **Состояние $P_0$: система пуста**",
   "id": "8eabb5d088c9cabf"
  },
  {
   "metadata": {
    "ExecuteTime": {
     "end_time": "2024-12-21T21:10:40.559815Z",
     "start_time": "2024-12-21T21:10:40.552735Z"
    }
   },
   "cell_type": "code",
   "source": [
    "SUM_0_1 = 0\n",
    "\n",
    "for i in range(0, N+1):\n",
    "    SUM_0_1 += (RHO**i / math.factorial(i))\n",
    "    \n",
    "SUM_0_2 = 0\n",
    "\n",
    "for j in range(1, M-N+1):\n",
    "    SUM_0_2 += (RHO / N)**j\n",
    "    \n",
    "P_0 = 1/(SUM_0_1 + (RHO**N/math.factorial(N)) * SUM_0_2)\n",
    "\n",
    "display(Markdown(f'Вероятность $ P_0 = {P_0} $\\n\\n---'))"
   ],
   "id": "4e160201ab160df0",
   "outputs": [
    {
     "data": {
      "text/plain": [
       "<IPython.core.display.Markdown object>"
      ],
      "text/markdown": "Вероятность $ P_0 = 0.07692307692307693 $\n\n---"
     },
     "metadata": {},
     "output_type": "display_data"
    }
   ],
   "execution_count": 91
  },
  {
   "metadata": {},
   "cell_type": "markdown",
   "source": "### **Состояние $P_1$: один из двух каналов обслуживания занят, очередь пуста**",
   "id": "4a9e52881f7fd52e"
  },
  {
   "metadata": {
    "ExecuteTime": {
     "end_time": "2024-12-21T21:10:40.566568Z",
     "start_time": "2024-12-21T21:10:40.560834Z"
    }
   },
   "cell_type": "code",
   "source": [
    "K_1 = 1\n",
    "P_1 = P_0*(RHO**K_1/math.factorial(K_1))\n",
    "\n",
    "display(Markdown(f'Вероятность $ P_1 = {P_1} $\\n\\n---'))"
   ],
   "id": "b293baa365685636",
   "outputs": [
    {
     "data": {
      "text/plain": [
       "<IPython.core.display.Markdown object>"
      ],
      "text/markdown": "Вероятность $ P_1 = 0.15384615384615385 $\n\n---"
     },
     "metadata": {},
     "output_type": "display_data"
    }
   ],
   "execution_count": 92
  },
  {
   "metadata": {},
   "cell_type": "markdown",
   "source": "### **Состояние $P_2$: два из двух каналов обслуживания заняты, очередь пуста**",
   "id": "925cd64c464693da"
  },
  {
   "metadata": {
    "ExecuteTime": {
     "end_time": "2024-12-21T21:10:40.573682Z",
     "start_time": "2024-12-21T21:10:40.567583Z"
    }
   },
   "cell_type": "code",
   "source": [
    "K_2 = 2\n",
    "P_2 = P_0*(RHO**K_2/math.factorial(K_2))\n",
    "\n",
    "display(Markdown(f'Вероятность $ P_2 = {P_2} $\\n\\n---'))"
   ],
   "id": "88f050a193dc4093",
   "outputs": [
    {
     "data": {
      "text/plain": [
       "<IPython.core.display.Markdown object>"
      ],
      "text/markdown": "Вероятность $ P_2 = 0.15384615384615385 $\n\n---"
     },
     "metadata": {},
     "output_type": "display_data"
    }
   ],
   "execution_count": 93
  },
  {
   "metadata": {},
   "cell_type": "markdown",
   "source": "### **Состояние $P_3$: два из двух каналов обслуживания заняты, в очереди одна заявка**",
   "id": "24f90f34839f6704"
  },
  {
   "metadata": {
    "ExecuteTime": {
     "end_time": "2024-12-21T21:10:40.581468Z",
     "start_time": "2024-12-21T21:10:40.575701Z"
    }
   },
   "cell_type": "code",
   "source": [
    "K_3 = 3\n",
    "P_3 = P_0*(RHO**N/math.factorial(N))*((RHO/N)**(K_3-N))\n",
    "\n",
    "display(Markdown(f'Вероятность $ P_3 = {P_3} $\\n\\n---'))"
   ],
   "id": "49034ef9dbd8907b",
   "outputs": [
    {
     "data": {
      "text/plain": [
       "<IPython.core.display.Markdown object>"
      ],
      "text/markdown": "Вероятность $ P_3 = 0.15384615384615385 $\n\n---"
     },
     "metadata": {},
     "output_type": "display_data"
    }
   ],
   "execution_count": 94
  },
  {
   "metadata": {},
   "cell_type": "markdown",
   "source": "### **Состояние $P_4$: два из двух каналов обслуживания заняты, в очереди две заявки**",
   "id": "3f68ce33cbdc1c53"
  },
  {
   "metadata": {
    "ExecuteTime": {
     "end_time": "2024-12-21T21:10:40.625456Z",
     "start_time": "2024-12-21T21:10:40.619145Z"
    }
   },
   "cell_type": "code",
   "source": [
    "K_4 = 4\n",
    "P_4 = P_0*(RHO**N/math.factorial(N))*((RHO/N)**(K_4-N))\n",
    "\n",
    "display(Markdown(f'Вероятность $ P_4 = {P_4} $\\n\\n---'))"
   ],
   "id": "d84d1aa96a6dcff1",
   "outputs": [
    {
     "data": {
      "text/plain": [
       "<IPython.core.display.Markdown object>"
      ],
      "text/markdown": "Вероятность $ P_4 = 0.15384615384615385 $\n\n---"
     },
     "metadata": {},
     "output_type": "display_data"
    }
   ],
   "execution_count": 95
  },
  {
   "metadata": {},
   "cell_type": "markdown",
   "source": "### **Состояние $P_5$: два из двух каналов обслуживания заняты, в очереди три заявки**",
   "id": "1d4327d148bc5c4b"
  },
  {
   "metadata": {
    "ExecuteTime": {
     "end_time": "2024-12-21T21:10:40.649339Z",
     "start_time": "2024-12-21T21:10:40.643479Z"
    }
   },
   "cell_type": "code",
   "source": [
    "K_5 = 5\n",
    "P_5 = P_0*(RHO**N/math.factorial(N))*((RHO/N)**(K_5-N))\n",
    "\n",
    "display(Markdown(f'Вероятность $ P_5 = {P_5} $\\n\\n---'))"
   ],
   "id": "449cb088f1e1a9e1",
   "outputs": [
    {
     "data": {
      "text/plain": [
       "<IPython.core.display.Markdown object>"
      ],
      "text/markdown": "Вероятность $ P_5 = 0.15384615384615385 $\n\n---"
     },
     "metadata": {},
     "output_type": "display_data"
    }
   ],
   "execution_count": 96
  },
  {
   "metadata": {},
   "cell_type": "markdown",
   "source": "### **Состояние $P_6$: два из двух каналов обслуживания заняты, в очереди четыре заявки**",
   "id": "e9fc3f19cc8352cc"
  },
  {
   "metadata": {
    "ExecuteTime": {
     "end_time": "2024-12-21T21:10:40.717066Z",
     "start_time": "2024-12-21T21:10:40.711359Z"
    }
   },
   "cell_type": "code",
   "source": [
    "K_6 = 6\n",
    "P_6 = P_0*(RHO**N/math.factorial(N))*((RHO/N)**(K_6-N))\n",
    "\n",
    "display(Markdown(f'Вероятность $ P_6 = {P_6} $\\n\\n---'))"
   ],
   "id": "a8dc4f6e9a7b3a04",
   "outputs": [
    {
     "data": {
      "text/plain": [
       "<IPython.core.display.Markdown object>"
      ],
      "text/markdown": "Вероятность $ P_6 = 0.15384615384615385 $\n\n---"
     },
     "metadata": {},
     "output_type": "display_data"
    }
   ],
   "execution_count": 97
  },
  {
   "metadata": {},
   "cell_type": "markdown",
   "source": "### **Вероятность отказа равняется вероятности состояния системы, когда все каналы обслуживания и очередь ожидания полностью заняты: $P_6 = P_{отказа}$**",
   "id": "d40b347a3ba38571"
  },
  {
   "metadata": {
    "ExecuteTime": {
     "end_time": "2024-12-21T21:10:40.749448Z",
     "start_time": "2024-12-21T21:10:40.739084Z"
    }
   },
   "cell_type": "code",
   "source": [
    "P_rejection = P_6\n",
    "\n",
    "display(Markdown(f'Вероятность отказа $ P_{{отказа}} = {P_rejection} $\\n\\n---'))\n",
    "\n",
    "P_data = {\n",
    "    'Состояние системы': ['Система пуста', 'Один из двух каналов обслуживания занят, очередь пуста', 'Два из двух каналов обслуживания заняты, очередь пуста', 'Два из двух каналов обслуживания заняты, в очереди одна заявка', 'Два из двух каналов обслуживания заняты, в очереди две заявки', 'Два из двух каналов обслуживания заняты, в очереди три заявки', 'Два из двух каналов обслуживания заняты, в очереди четыре заявки (отказ)'],\n",
    "    'Вероятность возникновения состояния': [P_0, P_1, P_2, P_3, P_4, P_5, P_6]\n",
    "}\n",
    "\n",
    "display(Markdown(pd.DataFrame(P_data).to_markdown(index=False)))"
   ],
   "id": "a96cbb7abfaba6f5",
   "outputs": [
    {
     "data": {
      "text/plain": [
       "<IPython.core.display.Markdown object>"
      ],
      "text/markdown": "Вероятность отказа $ P_{отказа} = 0.15384615384615385 $\n\n---"
     },
     "metadata": {},
     "output_type": "display_data"
    },
    {
     "data": {
      "text/plain": [
       "<IPython.core.display.Markdown object>"
      ],
      "text/markdown": "| Состояние системы                                                        |   Вероятность возникновения состояния |\n|:-------------------------------------------------------------------------|--------------------------------------:|\n| Система пуста                                                            |                             0.0769231 |\n| Один из двух каналов обслуживания занят, очередь пуста                   |                             0.153846  |\n| Два из двух каналов обслуживания заняты, очередь пуста                   |                             0.153846  |\n| Два из двух каналов обслуживания заняты, в очереди одна заявка           |                             0.153846  |\n| Два из двух каналов обслуживания заняты, в очереди две заявки            |                             0.153846  |\n| Два из двух каналов обслуживания заняты, в очереди три заявки            |                             0.153846  |\n| Два из двух каналов обслуживания заняты, в очереди четыре заявки (отказ) |                             0.153846  |"
     },
     "metadata": {},
     "output_type": "display_data"
    }
   ],
   "execution_count": 98
  },
  {
   "metadata": {},
   "cell_type": "markdown",
   "source": [
    "### Формулы для расчёта характеристик СМО:\n",
    "\n",
    "Относительная пропускная способность (отношение среднего числа заявок, обслуживаемых системой в единицу времени, к среднему числу поступающих за это время заявок) $Q$:\n",
    "\n",
    "\n",
    "$$\n",
    "Q = 1 - P_{отказа}\n",
    "$$\n",
    "\n",
    "\n",
    "Абсолютная пропускная способность (среднее число заявок, которое может обслужить система за единицу времени) $A$:\n",
    "\n",
    "\n",
    "$$\n",
    "A = \\lambda \\cdot Q\n",
    "$$\n",
    "\n",
    "\n",
    "Среднее число заявок под обслуживанием $L_{обслуживания}$:\n",
    "\n",
    "\n",
    "$$\n",
    "L_{обслуживания} = {\\rho} \\cdot Q\n",
    "$$\n",
    "\n",
    "\n",
    "Среднее число заявок в очереди ожидания $L_{очереди}$:\n",
    "\n",
    "\n",
    "$$\n",
    "L_{очереди} = \\frac{\\rho^{n+1}}{n \\cdot n!} \\cdot \\frac{(M-N) \\cdot ((M-N) + 1)}{2} \\cdot P_0\n",
    "$$\n",
    "\n",
    "\n",
    "Среднее число заявок в системе $L_{системы}$:\n",
    "\n",
    "\n",
    "$$\n",
    "L_{системы} = L_{обслуживания} + L_{очереди}\n",
    "$$\n",
    "\n",
    "\n",
    "Среднее время нахождения заявки в системе $T_{системы}$:\n",
    "\n",
    "\n",
    "$$\n",
    "T_{системы} = \\frac{L_{обслуживания} + L_{очереди}}{A} = \\frac{L_{системы}}{A}\n",
    "$$"
   ],
   "id": "55ce675784ae31ec"
  },
  {
   "metadata": {
    "ExecuteTime": {
     "end_time": "2024-12-21T21:10:40.789507Z",
     "start_time": "2024-12-21T21:10:40.772469Z"
    }
   },
   "cell_type": "code",
   "source": [
    "Q = 1-P_rejection\n",
    "A = LAMBDA*Q\n",
    "L_service = RHO*Q\n",
    "L_queue = ((RHO**(N+1) /(N * math.factorial(N))) * (((M-N) * ((M-N)+1))/2) * P_0)\n",
    "L_system = L_service + L_queue\n",
    "T_system = L_system/A\n",
    "\n",
    "display(Markdown(f\"Относительная пропускная способность $ Q = {Q} $\"))\n",
    "display(Markdown(f\"Абсолютная пропускная способность $ A = {A} $\"))\n",
    "display(Markdown(f\"Среднее число заявок под обслуживанием $ L_{{обслуживания}} = {L_service} $\"))\n",
    "display(Markdown(f\"Среднее число заявок в очереди ожидания $ L_{{очереди}} = {L_queue} $\"))\n",
    "display(Markdown(f\"Среднее число заявок в системе $ L_{{системы}} = {L_system} $\"))\n",
    "display(Markdown(f\"Среднее время нахождения заявки в системе $ T_{{системы}} = {T_system} $\\n\\n---\"))"
   ],
   "id": "f0f07c7af725b3f8",
   "outputs": [
    {
     "data": {
      "text/plain": [
       "<IPython.core.display.Markdown object>"
      ],
      "text/markdown": "Относительная пропускная способность $ Q = 0.8461538461538461 $"
     },
     "metadata": {},
     "output_type": "display_data"
    },
    {
     "data": {
      "text/plain": [
       "<IPython.core.display.Markdown object>"
      ],
      "text/markdown": "Абсолютная пропускная способность $ A = 0.8461538461538461 $"
     },
     "metadata": {},
     "output_type": "display_data"
    },
    {
     "data": {
      "text/plain": [
       "<IPython.core.display.Markdown object>"
      ],
      "text/markdown": "Среднее число заявок под обслуживанием $ L_{обслуживания} = 1.6923076923076923 $"
     },
     "metadata": {},
     "output_type": "display_data"
    },
    {
     "data": {
      "text/plain": [
       "<IPython.core.display.Markdown object>"
      ],
      "text/markdown": "Среднее число заявок в очереди ожидания $ L_{очереди} = 1.5384615384615385 $"
     },
     "metadata": {},
     "output_type": "display_data"
    },
    {
     "data": {
      "text/plain": [
       "<IPython.core.display.Markdown object>"
      ],
      "text/markdown": "Среднее число заявок в системе $ L_{системы} = 3.230769230769231 $"
     },
     "metadata": {},
     "output_type": "display_data"
    },
    {
     "data": {
      "text/plain": [
       "<IPython.core.display.Markdown object>"
      ],
      "text/markdown": "Среднее время нахождения заявки в системе $ T_{системы} = 3.8181818181818183 $\n\n---"
     },
     "metadata": {},
     "output_type": "display_data"
    }
   ],
   "execution_count": 99
  }
 ],
 "metadata": {
  "kernelspec": {
   "display_name": "Python 3",
   "language": "python",
   "name": "python3"
  },
  "language_info": {
   "codemirror_mode": {
    "name": "ipython",
    "version": 2
   },
   "file_extension": ".py",
   "mimetype": "text/x-python",
   "name": "python",
   "nbconvert_exporter": "python",
   "pygments_lexer": "ipython2",
   "version": "2.7.6"
  }
 },
 "nbformat": 4,
 "nbformat_minor": 5
}
